{
 "cells": [
  {
   "cell_type": "code",
   "execution_count": 1,
   "metadata": {},
   "outputs": [],
   "source": [
    "# Importing libraries\n",
    "import pandas as pd\n",
    "import numpy as np\n",
    "import seaborn as sns\n",
    "import matplotlib.pyplot as plt\n",
    "%matplotlib inline\n",
    "\n",
    "import warnings\n",
    "warnings.filterwarnings('ignore')"
   ]
  },
  {
   "cell_type": "markdown",
   "metadata": {},
   "source": [
    "Introduction:\n",
    "\n",
    "This data is about baseball game which being played in 2014 and need to predict next year i.e., for 2015 who will be the winning team\n",
    "on the basis of 2014 data with the help of algorithm using machine learning."
   ]
  },
  {
   "cell_type": "markdown",
   "metadata": {},
   "source": [
    "## Hypothesis"
   ]
  },
  {
   "cell_type": "markdown",
   "metadata": {},
   "source": [
    "There are total 16 features present in data on the basis of which we will be going to predict. Details are given below:\n",
    "\n",
    "1. R = Total Runs in 2014\n",
    "2. AB = At Bats(taking your turn to try to hit the ball in a baseball game)\n",
    "3. H = Hits(Striking for the target aimed at)\n",
    "4. 2B = Doubles(A batter is credited with a double when he hits the ball into play and reaches second \n",
    "        base without the help of an intervening error or attempt to put out another baserunner. Doubles \n",
    "        are typically hit either into a gap, down the lines or off the outfield wall.)\n",
    "5. 3B = Triples(a triple occurs when a batter hits the ball into play and reaches third base without the\n",
    "        help of an intervening error or attempt to put out another baserunner.)\n",
    "6. HR = Homeruns(A home run occurs when a batter hits a fair ball and scores on the play without being \n",
    "        put out or without the benefit of an error)\n",
    "7. BB = Walks(A walk (or base on balls) occurs when a pitcher throws four pitches out of the strike zone,\n",
    "        none of which are swung at by the hitter. After refraining from swinging at four pitches out of the zone, \n",
    "        the batter is awarded first base. In the scorebook, a walk is denoted by the letters BB.)\n",
    "8. SO = Strikeouts( strikeout occurs when a pitcher throws any combination of three swinging or looking strikes to\n",
    "        a hitter. ... However, even if the batter reaches first base safely, the pitcher and the batter are still \n",
    "        credited with a strikeout in the scorebook)\n",
    "9. SB = Stolen Bases(n baseball, a stolen base occurs when a runner advances to a base to which he is not entitled and\n",
    "        the official scorer rules that the advance should be credited to the action of the runner.)\n",
    "10. RA = Runs Allowed(Runs Allowed is the amount of runs that score against a pitcher. This includes earned runs and unearned runs)\n",
    "11. ER = Earned Runs\n",
    "          (An earned run is any run that scores against a pitcher without the benefit of an error or a passed ball)\n",
    "12. ERA = earned Run Average (Earned run average represents the number of earned runs a pitcher allows per nine \n",
    "          innings -- with earned runs being any runs that scored without the aid of an error or a passed ball. \n",
    "          ERA is the most commonly accepted statistical tool for evaluating pitchers.)\n",
    "13. CG = Shtout (a shutout refers to the act by which a single pitcher pitches a complete game and does not allow \n",
    "         the opposing team to score a run.)\n",
    "14. SHO = Saves (A save is awarded to the relief pitcher who finishes a game for the winning team, under certain \n",
    "          circumstances. A pitcher cannot receive a save and a win in the same game)\n",
    "15. SV = Complete Games(A pitcher earns a complete game if he pitches the entire game for his team regardless of how \n",
    "         long it lasts. ... It takes a major effort for a pitcher to toss a complete game, as fatigue generally sets \n",
    "         in during the later innings)\n",
    "16. E = Errors(In baseball statistics, an error is an act, in the judgment of the official scorer, of a fielder \n",
    "        misplaying a ball in a manner that allows a batter or baserunner to advance one or more bases or allows \n",
    "        a plate appearance to continue after the batter should have been put out.)\n",
    "\n",
    "\n"
   ]
  },
  {
   "cell_type": "markdown",
   "metadata": {},
   "source": [
    "Here target is W (No of predicted Wins) on the basis of which we will be going to predict the winning chances for team in 2015"
   ]
  },
  {
   "cell_type": "code",
   "execution_count": 2,
   "metadata": {},
   "outputs": [
    {
     "data": {
      "text/html": [
       "<div>\n",
       "<style scoped>\n",
       "    .dataframe tbody tr th:only-of-type {\n",
       "        vertical-align: middle;\n",
       "    }\n",
       "\n",
       "    .dataframe tbody tr th {\n",
       "        vertical-align: top;\n",
       "    }\n",
       "\n",
       "    .dataframe thead th {\n",
       "        text-align: right;\n",
       "    }\n",
       "</style>\n",
       "<table border=\"1\" class=\"dataframe\">\n",
       "  <thead>\n",
       "    <tr style=\"text-align: right;\">\n",
       "      <th></th>\n",
       "      <th>W</th>\n",
       "      <th>R</th>\n",
       "      <th>AB</th>\n",
       "      <th>H</th>\n",
       "      <th>2B</th>\n",
       "      <th>3B</th>\n",
       "      <th>HR</th>\n",
       "      <th>BB</th>\n",
       "      <th>SO</th>\n",
       "      <th>SB</th>\n",
       "      <th>RA</th>\n",
       "      <th>ER</th>\n",
       "      <th>ERA</th>\n",
       "      <th>CG</th>\n",
       "      <th>SHO</th>\n",
       "      <th>SV</th>\n",
       "      <th>E</th>\n",
       "    </tr>\n",
       "  </thead>\n",
       "  <tbody>\n",
       "    <tr>\n",
       "      <th>0</th>\n",
       "      <td>95</td>\n",
       "      <td>724</td>\n",
       "      <td>5575</td>\n",
       "      <td>1497</td>\n",
       "      <td>300</td>\n",
       "      <td>42</td>\n",
       "      <td>139</td>\n",
       "      <td>383</td>\n",
       "      <td>973</td>\n",
       "      <td>104</td>\n",
       "      <td>641</td>\n",
       "      <td>601</td>\n",
       "      <td>3.73</td>\n",
       "      <td>2</td>\n",
       "      <td>8</td>\n",
       "      <td>56</td>\n",
       "      <td>88</td>\n",
       "    </tr>\n",
       "    <tr>\n",
       "      <th>1</th>\n",
       "      <td>83</td>\n",
       "      <td>696</td>\n",
       "      <td>5467</td>\n",
       "      <td>1349</td>\n",
       "      <td>277</td>\n",
       "      <td>44</td>\n",
       "      <td>156</td>\n",
       "      <td>439</td>\n",
       "      <td>1264</td>\n",
       "      <td>70</td>\n",
       "      <td>700</td>\n",
       "      <td>653</td>\n",
       "      <td>4.07</td>\n",
       "      <td>2</td>\n",
       "      <td>12</td>\n",
       "      <td>45</td>\n",
       "      <td>86</td>\n",
       "    </tr>\n",
       "    <tr>\n",
       "      <th>2</th>\n",
       "      <td>81</td>\n",
       "      <td>669</td>\n",
       "      <td>5439</td>\n",
       "      <td>1395</td>\n",
       "      <td>303</td>\n",
       "      <td>29</td>\n",
       "      <td>141</td>\n",
       "      <td>533</td>\n",
       "      <td>1157</td>\n",
       "      <td>86</td>\n",
       "      <td>640</td>\n",
       "      <td>584</td>\n",
       "      <td>3.67</td>\n",
       "      <td>11</td>\n",
       "      <td>10</td>\n",
       "      <td>38</td>\n",
       "      <td>79</td>\n",
       "    </tr>\n",
       "    <tr>\n",
       "      <th>3</th>\n",
       "      <td>76</td>\n",
       "      <td>622</td>\n",
       "      <td>5533</td>\n",
       "      <td>1381</td>\n",
       "      <td>260</td>\n",
       "      <td>27</td>\n",
       "      <td>136</td>\n",
       "      <td>404</td>\n",
       "      <td>1231</td>\n",
       "      <td>68</td>\n",
       "      <td>701</td>\n",
       "      <td>643</td>\n",
       "      <td>3.98</td>\n",
       "      <td>7</td>\n",
       "      <td>9</td>\n",
       "      <td>37</td>\n",
       "      <td>101</td>\n",
       "    </tr>\n",
       "    <tr>\n",
       "      <th>4</th>\n",
       "      <td>74</td>\n",
       "      <td>689</td>\n",
       "      <td>5605</td>\n",
       "      <td>1515</td>\n",
       "      <td>289</td>\n",
       "      <td>49</td>\n",
       "      <td>151</td>\n",
       "      <td>455</td>\n",
       "      <td>1259</td>\n",
       "      <td>83</td>\n",
       "      <td>803</td>\n",
       "      <td>746</td>\n",
       "      <td>4.64</td>\n",
       "      <td>7</td>\n",
       "      <td>12</td>\n",
       "      <td>35</td>\n",
       "      <td>86</td>\n",
       "    </tr>\n",
       "  </tbody>\n",
       "</table>\n",
       "</div>"
      ],
      "text/plain": [
       "    W    R    AB     H   2B  3B   HR   BB    SO   SB   RA   ER   ERA  CG  SHO  \\\n",
       "0  95  724  5575  1497  300  42  139  383   973  104  641  601  3.73   2    8   \n",
       "1  83  696  5467  1349  277  44  156  439  1264   70  700  653  4.07   2   12   \n",
       "2  81  669  5439  1395  303  29  141  533  1157   86  640  584  3.67  11   10   \n",
       "3  76  622  5533  1381  260  27  136  404  1231   68  701  643  3.98   7    9   \n",
       "4  74  689  5605  1515  289  49  151  455  1259   83  803  746  4.64   7   12   \n",
       "\n",
       "   SV    E  \n",
       "0  56   88  \n",
       "1  45   86  \n",
       "2  38   79  \n",
       "3  37  101  \n",
       "4  35   86  "
      ]
     },
     "execution_count": 2,
     "metadata": {},
     "output_type": "execute_result"
    }
   ],
   "source": [
    "df = pd.read_csv('/Users/juhimishra/Downloads/Data-Science-ML-Capstone-Projects-master/baseball.csv')\n",
    "df.head()"
   ]
  },
  {
   "cell_type": "code",
   "execution_count": 3,
   "metadata": {},
   "outputs": [
    {
     "name": "stdout",
     "output_type": "stream",
     "text": [
      "No of rows -  30\n",
      "No of columns - 17\n"
     ]
    }
   ],
   "source": [
    "# Checking the shape of data\n",
    "print(\"No of rows - \",df.shape[0])\n",
    "print(\"No of columns -\",df.shape[1])"
   ]
  },
  {
   "cell_type": "code",
   "execution_count": 4,
   "metadata": {},
   "outputs": [
    {
     "data": {
      "text/plain": [
       "array([ 95,  83,  81,  76,  74,  93,  87,  80,  78,  88,  86,  85,  68,\n",
       "       100,  98,  97,  64,  90,  71,  67,  63,  92,  84,  79])"
      ]
     },
     "execution_count": 4,
     "metadata": {},
     "output_type": "execute_result"
    }
   ],
   "source": [
    "df.W.unique()"
   ]
  },
  {
   "cell_type": "code",
   "execution_count": 5,
   "metadata": {},
   "outputs": [
    {
     "name": "stdout",
     "output_type": "stream",
     "text": [
      "<class 'pandas.core.frame.DataFrame'>\n",
      "RangeIndex: 30 entries, 0 to 29\n",
      "Data columns (total 17 columns):\n",
      " #   Column  Non-Null Count  Dtype  \n",
      "---  ------  --------------  -----  \n",
      " 0   W       30 non-null     int64  \n",
      " 1   R       30 non-null     int64  \n",
      " 2   AB      30 non-null     int64  \n",
      " 3   H       30 non-null     int64  \n",
      " 4   2B      30 non-null     int64  \n",
      " 5   3B      30 non-null     int64  \n",
      " 6   HR      30 non-null     int64  \n",
      " 7   BB      30 non-null     int64  \n",
      " 8   SO      30 non-null     int64  \n",
      " 9   SB      30 non-null     int64  \n",
      " 10  RA      30 non-null     int64  \n",
      " 11  ER      30 non-null     int64  \n",
      " 12  ERA     30 non-null     float64\n",
      " 13  CG      30 non-null     int64  \n",
      " 14  SHO     30 non-null     int64  \n",
      " 15  SV      30 non-null     int64  \n",
      " 16  E       30 non-null     int64  \n",
      "dtypes: float64(1), int64(16)\n",
      "memory usage: 4.1 KB\n"
     ]
    }
   ],
   "source": [
    "df.info()"
   ]
  },
  {
   "cell_type": "markdown",
   "metadata": {},
   "source": [
    "with the help of info method analysed that there are no object so no need to use any encoding method"
   ]
  },
  {
   "cell_type": "code",
   "execution_count": 6,
   "metadata": {},
   "outputs": [
    {
     "data": {
      "text/plain": [
       "68     3\n",
       "81     2\n",
       "74     2\n",
       "76     2\n",
       "83     2\n",
       "80     1\n",
       "97     1\n",
       "98     1\n",
       "67     1\n",
       "71     1\n",
       "78     1\n",
       "79     1\n",
       "95     1\n",
       "100    1\n",
       "92     1\n",
       "84     1\n",
       "85     1\n",
       "86     1\n",
       "87     1\n",
       "88     1\n",
       "90     1\n",
       "63     1\n",
       "93     1\n",
       "64     1\n",
       "Name: W, dtype: int64"
      ]
     },
     "execution_count": 6,
     "metadata": {},
     "output_type": "execute_result"
    }
   ],
   "source": [
    "df['W'].value_counts()"
   ]
  },
  {
   "cell_type": "code",
   "execution_count": 7,
   "metadata": {},
   "outputs": [
    {
     "data": {
      "text/html": [
       "<div>\n",
       "<style scoped>\n",
       "    .dataframe tbody tr th:only-of-type {\n",
       "        vertical-align: middle;\n",
       "    }\n",
       "\n",
       "    .dataframe tbody tr th {\n",
       "        vertical-align: top;\n",
       "    }\n",
       "\n",
       "    .dataframe thead th {\n",
       "        text-align: right;\n",
       "    }\n",
       "</style>\n",
       "<table border=\"1\" class=\"dataframe\">\n",
       "  <thead>\n",
       "    <tr style=\"text-align: right;\">\n",
       "      <th></th>\n",
       "      <th>W</th>\n",
       "      <th>R</th>\n",
       "      <th>AB</th>\n",
       "      <th>H</th>\n",
       "      <th>2B</th>\n",
       "      <th>3B</th>\n",
       "      <th>HR</th>\n",
       "      <th>BB</th>\n",
       "      <th>SO</th>\n",
       "      <th>SB</th>\n",
       "      <th>RA</th>\n",
       "      <th>ER</th>\n",
       "      <th>ERA</th>\n",
       "      <th>CG</th>\n",
       "      <th>SHO</th>\n",
       "      <th>SV</th>\n",
       "      <th>E</th>\n",
       "    </tr>\n",
       "  </thead>\n",
       "  <tbody>\n",
       "    <tr>\n",
       "      <th>count</th>\n",
       "      <td>30.000000</td>\n",
       "      <td>30.000000</td>\n",
       "      <td>30.000000</td>\n",
       "      <td>30.000000</td>\n",
       "      <td>30.000000</td>\n",
       "      <td>30.000000</td>\n",
       "      <td>30.000000</td>\n",
       "      <td>30.000000</td>\n",
       "      <td>30.00000</td>\n",
       "      <td>30.000000</td>\n",
       "      <td>30.000000</td>\n",
       "      <td>30.000000</td>\n",
       "      <td>30.000000</td>\n",
       "      <td>30.000000</td>\n",
       "      <td>30.000000</td>\n",
       "      <td>30.000000</td>\n",
       "      <td>30.000000</td>\n",
       "    </tr>\n",
       "    <tr>\n",
       "      <th>mean</th>\n",
       "      <td>80.966667</td>\n",
       "      <td>688.233333</td>\n",
       "      <td>5516.266667</td>\n",
       "      <td>1403.533333</td>\n",
       "      <td>274.733333</td>\n",
       "      <td>31.300000</td>\n",
       "      <td>163.633333</td>\n",
       "      <td>469.100000</td>\n",
       "      <td>1248.20000</td>\n",
       "      <td>83.500000</td>\n",
       "      <td>688.233333</td>\n",
       "      <td>635.833333</td>\n",
       "      <td>3.956333</td>\n",
       "      <td>3.466667</td>\n",
       "      <td>11.300000</td>\n",
       "      <td>43.066667</td>\n",
       "      <td>94.333333</td>\n",
       "    </tr>\n",
       "    <tr>\n",
       "      <th>std</th>\n",
       "      <td>10.453455</td>\n",
       "      <td>58.761754</td>\n",
       "      <td>70.467372</td>\n",
       "      <td>57.140923</td>\n",
       "      <td>18.095405</td>\n",
       "      <td>10.452355</td>\n",
       "      <td>31.823309</td>\n",
       "      <td>57.053725</td>\n",
       "      <td>103.75947</td>\n",
       "      <td>22.815225</td>\n",
       "      <td>72.108005</td>\n",
       "      <td>70.140786</td>\n",
       "      <td>0.454089</td>\n",
       "      <td>2.763473</td>\n",
       "      <td>4.120177</td>\n",
       "      <td>7.869335</td>\n",
       "      <td>13.958889</td>\n",
       "    </tr>\n",
       "    <tr>\n",
       "      <th>min</th>\n",
       "      <td>63.000000</td>\n",
       "      <td>573.000000</td>\n",
       "      <td>5385.000000</td>\n",
       "      <td>1324.000000</td>\n",
       "      <td>236.000000</td>\n",
       "      <td>13.000000</td>\n",
       "      <td>100.000000</td>\n",
       "      <td>375.000000</td>\n",
       "      <td>973.00000</td>\n",
       "      <td>44.000000</td>\n",
       "      <td>525.000000</td>\n",
       "      <td>478.000000</td>\n",
       "      <td>2.940000</td>\n",
       "      <td>0.000000</td>\n",
       "      <td>4.000000</td>\n",
       "      <td>28.000000</td>\n",
       "      <td>75.000000</td>\n",
       "    </tr>\n",
       "    <tr>\n",
       "      <th>25%</th>\n",
       "      <td>74.000000</td>\n",
       "      <td>651.250000</td>\n",
       "      <td>5464.000000</td>\n",
       "      <td>1363.000000</td>\n",
       "      <td>262.250000</td>\n",
       "      <td>23.000000</td>\n",
       "      <td>140.250000</td>\n",
       "      <td>428.250000</td>\n",
       "      <td>1157.50000</td>\n",
       "      <td>69.000000</td>\n",
       "      <td>636.250000</td>\n",
       "      <td>587.250000</td>\n",
       "      <td>3.682500</td>\n",
       "      <td>1.000000</td>\n",
       "      <td>9.000000</td>\n",
       "      <td>37.250000</td>\n",
       "      <td>86.000000</td>\n",
       "    </tr>\n",
       "    <tr>\n",
       "      <th>50%</th>\n",
       "      <td>81.000000</td>\n",
       "      <td>689.000000</td>\n",
       "      <td>5510.000000</td>\n",
       "      <td>1382.500000</td>\n",
       "      <td>275.500000</td>\n",
       "      <td>31.000000</td>\n",
       "      <td>158.500000</td>\n",
       "      <td>473.000000</td>\n",
       "      <td>1261.50000</td>\n",
       "      <td>83.500000</td>\n",
       "      <td>695.500000</td>\n",
       "      <td>644.500000</td>\n",
       "      <td>4.025000</td>\n",
       "      <td>3.000000</td>\n",
       "      <td>12.000000</td>\n",
       "      <td>42.000000</td>\n",
       "      <td>91.000000</td>\n",
       "    </tr>\n",
       "    <tr>\n",
       "      <th>75%</th>\n",
       "      <td>87.750000</td>\n",
       "      <td>718.250000</td>\n",
       "      <td>5570.000000</td>\n",
       "      <td>1451.500000</td>\n",
       "      <td>288.750000</td>\n",
       "      <td>39.000000</td>\n",
       "      <td>177.000000</td>\n",
       "      <td>501.250000</td>\n",
       "      <td>1311.50000</td>\n",
       "      <td>96.500000</td>\n",
       "      <td>732.500000</td>\n",
       "      <td>679.250000</td>\n",
       "      <td>4.220000</td>\n",
       "      <td>5.750000</td>\n",
       "      <td>13.000000</td>\n",
       "      <td>46.750000</td>\n",
       "      <td>96.750000</td>\n",
       "    </tr>\n",
       "    <tr>\n",
       "      <th>max</th>\n",
       "      <td>100.000000</td>\n",
       "      <td>891.000000</td>\n",
       "      <td>5649.000000</td>\n",
       "      <td>1515.000000</td>\n",
       "      <td>308.000000</td>\n",
       "      <td>49.000000</td>\n",
       "      <td>232.000000</td>\n",
       "      <td>570.000000</td>\n",
       "      <td>1518.00000</td>\n",
       "      <td>134.000000</td>\n",
       "      <td>844.000000</td>\n",
       "      <td>799.000000</td>\n",
       "      <td>5.040000</td>\n",
       "      <td>11.000000</td>\n",
       "      <td>21.000000</td>\n",
       "      <td>62.000000</td>\n",
       "      <td>126.000000</td>\n",
       "    </tr>\n",
       "  </tbody>\n",
       "</table>\n",
       "</div>"
      ],
      "text/plain": [
       "                W           R           AB            H          2B  \\\n",
       "count   30.000000   30.000000    30.000000    30.000000   30.000000   \n",
       "mean    80.966667  688.233333  5516.266667  1403.533333  274.733333   \n",
       "std     10.453455   58.761754    70.467372    57.140923   18.095405   \n",
       "min     63.000000  573.000000  5385.000000  1324.000000  236.000000   \n",
       "25%     74.000000  651.250000  5464.000000  1363.000000  262.250000   \n",
       "50%     81.000000  689.000000  5510.000000  1382.500000  275.500000   \n",
       "75%     87.750000  718.250000  5570.000000  1451.500000  288.750000   \n",
       "max    100.000000  891.000000  5649.000000  1515.000000  308.000000   \n",
       "\n",
       "              3B          HR          BB          SO          SB          RA  \\\n",
       "count  30.000000   30.000000   30.000000    30.00000   30.000000   30.000000   \n",
       "mean   31.300000  163.633333  469.100000  1248.20000   83.500000  688.233333   \n",
       "std    10.452355   31.823309   57.053725   103.75947   22.815225   72.108005   \n",
       "min    13.000000  100.000000  375.000000   973.00000   44.000000  525.000000   \n",
       "25%    23.000000  140.250000  428.250000  1157.50000   69.000000  636.250000   \n",
       "50%    31.000000  158.500000  473.000000  1261.50000   83.500000  695.500000   \n",
       "75%    39.000000  177.000000  501.250000  1311.50000   96.500000  732.500000   \n",
       "max    49.000000  232.000000  570.000000  1518.00000  134.000000  844.000000   \n",
       "\n",
       "               ER        ERA         CG        SHO         SV           E  \n",
       "count   30.000000  30.000000  30.000000  30.000000  30.000000   30.000000  \n",
       "mean   635.833333   3.956333   3.466667  11.300000  43.066667   94.333333  \n",
       "std     70.140786   0.454089   2.763473   4.120177   7.869335   13.958889  \n",
       "min    478.000000   2.940000   0.000000   4.000000  28.000000   75.000000  \n",
       "25%    587.250000   3.682500   1.000000   9.000000  37.250000   86.000000  \n",
       "50%    644.500000   4.025000   3.000000  12.000000  42.000000   91.000000  \n",
       "75%    679.250000   4.220000   5.750000  13.000000  46.750000   96.750000  \n",
       "max    799.000000   5.040000  11.000000  21.000000  62.000000  126.000000  "
      ]
     },
     "execution_count": 7,
     "metadata": {},
     "output_type": "execute_result"
    }
   ],
   "source": [
    "df.describe()"
   ]
  },
  {
   "cell_type": "markdown",
   "metadata": {},
   "source": [
    "Analysis mentioned below on the basis of above static data:\n",
    "1. No missing values\n",
    "2. above data looks pretty good as skewness and outliers chances are less.\n",
    "3. Min win i 2014 was 63 and max was 100.\n",
    "4. Similarly for runs also we can see that min was 573 and max was 891."
   ]
  },
  {
   "cell_type": "code",
   "execution_count": 8,
   "metadata": {},
   "outputs": [
    {
     "data": {
      "text/html": [
       "<div>\n",
       "<style scoped>\n",
       "    .dataframe tbody tr th:only-of-type {\n",
       "        vertical-align: middle;\n",
       "    }\n",
       "\n",
       "    .dataframe tbody tr th {\n",
       "        vertical-align: top;\n",
       "    }\n",
       "\n",
       "    .dataframe thead th {\n",
       "        text-align: right;\n",
       "    }\n",
       "</style>\n",
       "<table border=\"1\" class=\"dataframe\">\n",
       "  <thead>\n",
       "    <tr style=\"text-align: right;\">\n",
       "      <th></th>\n",
       "      <th>Any Missing value</th>\n",
       "    </tr>\n",
       "  </thead>\n",
       "  <tbody>\n",
       "    <tr>\n",
       "      <th>W</th>\n",
       "      <td>0</td>\n",
       "    </tr>\n",
       "    <tr>\n",
       "      <th>R</th>\n",
       "      <td>0</td>\n",
       "    </tr>\n",
       "    <tr>\n",
       "      <th>AB</th>\n",
       "      <td>0</td>\n",
       "    </tr>\n",
       "    <tr>\n",
       "      <th>H</th>\n",
       "      <td>0</td>\n",
       "    </tr>\n",
       "    <tr>\n",
       "      <th>2B</th>\n",
       "      <td>0</td>\n",
       "    </tr>\n",
       "    <tr>\n",
       "      <th>3B</th>\n",
       "      <td>0</td>\n",
       "    </tr>\n",
       "    <tr>\n",
       "      <th>HR</th>\n",
       "      <td>0</td>\n",
       "    </tr>\n",
       "    <tr>\n",
       "      <th>BB</th>\n",
       "      <td>0</td>\n",
       "    </tr>\n",
       "    <tr>\n",
       "      <th>SO</th>\n",
       "      <td>0</td>\n",
       "    </tr>\n",
       "    <tr>\n",
       "      <th>SB</th>\n",
       "      <td>0</td>\n",
       "    </tr>\n",
       "    <tr>\n",
       "      <th>RA</th>\n",
       "      <td>0</td>\n",
       "    </tr>\n",
       "    <tr>\n",
       "      <th>ER</th>\n",
       "      <td>0</td>\n",
       "    </tr>\n",
       "    <tr>\n",
       "      <th>ERA</th>\n",
       "      <td>0</td>\n",
       "    </tr>\n",
       "    <tr>\n",
       "      <th>CG</th>\n",
       "      <td>0</td>\n",
       "    </tr>\n",
       "    <tr>\n",
       "      <th>SHO</th>\n",
       "      <td>0</td>\n",
       "    </tr>\n",
       "    <tr>\n",
       "      <th>SV</th>\n",
       "      <td>0</td>\n",
       "    </tr>\n",
       "    <tr>\n",
       "      <th>E</th>\n",
       "      <td>0</td>\n",
       "    </tr>\n",
       "  </tbody>\n",
       "</table>\n",
       "</div>"
      ],
      "text/plain": [
       "     Any Missing value\n",
       "W                    0\n",
       "R                    0\n",
       "AB                   0\n",
       "H                    0\n",
       "2B                   0\n",
       "3B                   0\n",
       "HR                   0\n",
       "BB                   0\n",
       "SO                   0\n",
       "SB                   0\n",
       "RA                   0\n",
       "ER                   0\n",
       "ERA                  0\n",
       "CG                   0\n",
       "SHO                  0\n",
       "SV                   0\n",
       "E                    0"
      ]
     },
     "execution_count": 8,
     "metadata": {},
     "output_type": "execute_result"
    }
   ],
   "source": [
    "# Let's check missing value \n",
    "df.isna().sum().to_frame('Any Missing value')"
   ]
  },
  {
   "cell_type": "markdown",
   "metadata": {},
   "source": [
    "There are no missing values in baseball data"
   ]
  },
  {
   "cell_type": "markdown",
   "metadata": {},
   "source": [
    "## Univariate analysis"
   ]
  },
  {
   "cell_type": "code",
   "execution_count": 9,
   "metadata": {},
   "outputs": [
    {
     "data": {
      "text/plain": [
       "Index(['W', 'R', 'AB', 'H', '2B', '3B', 'HR', 'BB', 'SO', 'SB', 'RA', 'ER',\n",
       "       'ERA', 'CG', 'SHO', 'SV', 'E'],\n",
       "      dtype='object')"
      ]
     },
     "execution_count": 9,
     "metadata": {},
     "output_type": "execute_result"
    }
   ],
   "source": [
    "df.columns"
   ]
  },
  {
   "cell_type": "code",
   "execution_count": 10,
   "metadata": {},
   "outputs": [],
   "source": [
    "df.rename(columns ={'2B':'Doubles','3B':'Triples'},inplace = True)"
   ]
  },
  {
   "cell_type": "code",
   "execution_count": 11,
   "metadata": {},
   "outputs": [
    {
     "data": {
      "text/plain": [
       "Index(['W', 'R', 'AB', 'H', 'Doubles', 'Triples', 'HR', 'BB', 'SO', 'SB', 'RA',\n",
       "       'ER', 'ERA', 'CG', 'SHO', 'SV', 'E'],\n",
       "      dtype='object')"
      ]
     },
     "execution_count": 11,
     "metadata": {},
     "output_type": "execute_result"
    }
   ],
   "source": [
    "df.columns"
   ]
  },
  {
   "cell_type": "code",
   "execution_count": 12,
   "metadata": {},
   "outputs": [
    {
     "data": {
      "text/plain": [
       "696    2\n",
       "689    2\n",
       "703    1\n",
       "669    1\n",
       "644    1\n",
       "720    1\n",
       "647    1\n",
       "713    1\n",
       "650    1\n",
       "655    1\n",
       "656    1\n",
       "724    1\n",
       "661    1\n",
       "729    1\n",
       "667    1\n",
       "737    1\n",
       "573    1\n",
       "613    1\n",
       "683    1\n",
       "748    1\n",
       "622    1\n",
       "751    1\n",
       "626    1\n",
       "694    1\n",
       "697    1\n",
       "891    1\n",
       "764    1\n",
       "640    1\n",
       "Name: R, dtype: int64"
      ]
     },
     "execution_count": 12,
     "metadata": {},
     "output_type": "execute_result"
    }
   ],
   "source": [
    "df['R'].value_counts()"
   ]
  },
  {
   "cell_type": "code",
   "execution_count": 13,
   "metadata": {},
   "outputs": [
    {
     "data": {
      "text/plain": [
       "<AxesSubplot:xlabel='R', ylabel='W'>"
      ]
     },
     "execution_count": 13,
     "metadata": {},
     "output_type": "execute_result"
    },
    {
     "data": {
      "image/png": "[encoded data removed]",
      "text/plain": [
       "<Figure size 1800x360 with 1 Axes>"
      ]
     },
     "metadata": {
      "needs_background": "light"
     },
     "output_type": "display_data"
    }
   ],
   "source": [
    "plt.figure(figsize=(25,5))\n",
    "sns.barplot(x = 'R',y ='W',data=df)"
   ]
  },
  {
   "cell_type": "code",
   "execution_count": 14,
   "metadata": {},
   "outputs": [
    {
     "data": {
      "text/plain": [
       "5485    2\n",
       "5631    1\n",
       "5467    1\n",
       "5572    1\n",
       "5509    1\n",
       "5575    1\n",
       "5640    1\n",
       "5385    1\n",
       "5567    1\n",
       "5511    1\n",
       "5649    1\n",
       "5459    1\n",
       "5480    1\n",
       "5463    1\n",
       "5529    1\n",
       "5533    1\n",
       "5565    1\n",
       "5439    1\n",
       "5600    1\n",
       "5527    1\n",
       "5605    1\n",
       "5544    1\n",
       "5417    1\n",
       "5484    1\n",
       "5420    1\n",
       "5491    1\n",
       "5428    1\n",
       "5457    1\n",
       "5571    1\n",
       "Name: AB, dtype: int64"
      ]
     },
     "execution_count": 14,
     "metadata": {},
     "output_type": "execute_result"
    }
   ],
   "source": [
    "df['AB'].value_counts()"
   ]
  },
  {
   "cell_type": "code",
   "execution_count": 15,
   "metadata": {},
   "outputs": [
    {
     "data": {
      "text/plain": [
       "<AxesSubplot:xlabel='AB', ylabel='W'>"
      ]
     },
     "execution_count": 15,
     "metadata": {},
     "output_type": "execute_result"
    },
    {
     "data": {
      "image/png": "[encoded data removed]",
      "text/plain": [
       "<Figure size 1800x360 with 1 Axes>"
      ]
     },
     "metadata": {
      "needs_background": "light"
     },
     "output_type": "display_data"
    }
   ],
   "source": [
    "plt.figure(figsize=(25,5))\n",
    "sns.barplot(x = 'AB',y ='W',data=df)"
   ]
  },
  {
   "cell_type": "code",
   "execution_count": 16,
   "metadata": {},
   "outputs": [
    {
     "data": {
      "text/plain": [
       "1363    2\n",
       "1341    1\n",
       "1497    1\n",
       "1405    1\n",
       "1349    1\n",
       "1351    1\n",
       "1480    1\n",
       "1479    1\n",
       "1419    1\n",
       "1420    1\n",
       "1486    1\n",
       "1361    1\n",
       "1494    1\n",
       "1495    1\n",
       "1370    1\n",
       "1462    1\n",
       "1374    1\n",
       "1378    1\n",
       "1379    1\n",
       "1381    1\n",
       "1382    1\n",
       "1383    1\n",
       "1386    1\n",
       "1515    1\n",
       "1324    1\n",
       "1331    1\n",
       "1395    1\n",
       "1397    1\n",
       "1346    1\n",
       "Name: H, dtype: int64"
      ]
     },
     "execution_count": 16,
     "metadata": {},
     "output_type": "execute_result"
    }
   ],
   "source": [
    "df['H'].value_counts()"
   ]
  },
  {
   "cell_type": "code",
   "execution_count": 17,
   "metadata": {},
   "outputs": [
    {
     "data": {
      "text/plain": [
       "<AxesSubplot:xlabel='H', ylabel='W'>"
      ]
     },
     "execution_count": 17,
     "metadata": {},
     "output_type": "execute_result"
    },
    {
     "data": {
      "image/png": "[encoded data removed]",
      "text/plain": [
       "<Figure size 1800x360 with 1 Axes>"
      ]
     },
     "metadata": {
      "needs_background": "light"
     },
     "output_type": "display_data"
    }
   ],
   "source": [
    "plt.figure(figsize=(25,5))\n",
    "sns.barplot(x ='H',y ='W',data=df)"
   ]
  },
  {
   "cell_type": "code",
   "execution_count": 18,
   "metadata": {},
   "outputs": [
    {
     "data": {
      "text/plain": [
       "272    3\n",
       "288    2\n",
       "278    2\n",
       "289    2\n",
       "277    2\n",
       "260    2\n",
       "274    2\n",
       "251    1\n",
       "236    1\n",
       "294    1\n",
       "295    1\n",
       "262    1\n",
       "265    1\n",
       "257    1\n",
       "263    1\n",
       "292    1\n",
       "303    1\n",
       "243    1\n",
       "308    1\n",
       "246    1\n",
       "279    1\n",
       "300    1\n",
       "Name: Doubles, dtype: int64"
      ]
     },
     "execution_count": 18,
     "metadata": {},
     "output_type": "execute_result"
    }
   ],
   "source": [
    "df['Doubles'].value_counts()"
   ]
  },
  {
   "cell_type": "code",
   "execution_count": 19,
   "metadata": {},
   "outputs": [
    {
     "data": {
      "text/plain": [
       "<AxesSubplot:xlabel='Doubles', ylabel='W'>"
      ]
     },
     "execution_count": 19,
     "metadata": {},
     "output_type": "execute_result"
    },
    {
     "data": {
      "image/png": "[encoded data removed]",
      "text/plain": [
       "<Figure size 1800x360 with 1 Axes>"
      ]
     },
     "metadata": {
      "needs_background": "light"
     },
     "output_type": "display_data"
    }
   ],
   "source": [
    "plt.figure(figsize=(25,5))\n",
    "sns.barplot(x ='Doubles',y ='W',data=df)"
   ]
  },
  {
   "cell_type": "code",
   "execution_count": 20,
   "metadata": {},
   "outputs": [
    {
     "data": {
      "text/plain": [
       "27    3\n",
       "32    2\n",
       "17    2\n",
       "26    2\n",
       "39    2\n",
       "49    2\n",
       "44    1\n",
       "33    1\n",
       "34    1\n",
       "36    1\n",
       "37    1\n",
       "40    1\n",
       "42    1\n",
       "30    1\n",
       "13    1\n",
       "46    1\n",
       "29    1\n",
       "18    1\n",
       "19    1\n",
       "20    1\n",
       "21    1\n",
       "22    1\n",
       "48    1\n",
       "Name: Triples, dtype: int64"
      ]
     },
     "execution_count": 20,
     "metadata": {},
     "output_type": "execute_result"
    }
   ],
   "source": [
    "df['Triples'].value_counts()"
   ]
  },
  {
   "cell_type": "code",
   "execution_count": 21,
   "metadata": {},
   "outputs": [
    {
     "data": {
      "text/plain": [
       "<AxesSubplot:xlabel='Triples', ylabel='W'>"
      ]
     },
     "execution_count": 21,
     "metadata": {},
     "output_type": "execute_result"
    },
    {
     "data": {
      "image/png": "[encoded data removed]",
      "text/plain": [
       "<Figure size 1800x360 with 1 Axes>"
      ]
     },
     "metadata": {
      "needs_background": "light"
     },
     "output_type": "display_data"
    }
   ],
   "source": [
    "plt.figure(figsize=(25,5))\n",
    "sns.barplot(x ='Triples',y ='W',data=df)"
   ]
  },
  {
   "cell_type": "code",
   "execution_count": 22,
   "metadata": {},
   "outputs": [
    {
     "data": {
      "text/plain": [
       "177    2\n",
       "136    2\n",
       "167    2\n",
       "187    1\n",
       "151    1\n",
       "198    1\n",
       "148    1\n",
       "137    1\n",
       "139    1\n",
       "140    1\n",
       "141    1\n",
       "145    1\n",
       "146    1\n",
       "212    1\n",
       "154    1\n",
       "217    1\n",
       "186    1\n",
       "156    1\n",
       "161    1\n",
       "100    1\n",
       "230    1\n",
       "232    1\n",
       "171    1\n",
       "172    1\n",
       "176    1\n",
       "120    1\n",
       "130    1\n",
       "Name: HR, dtype: int64"
      ]
     },
     "execution_count": 22,
     "metadata": {},
     "output_type": "execute_result"
    }
   ],
   "source": [
    "df['HR'].value_counts()"
   ]
  },
  {
   "cell_type": "code",
   "execution_count": 23,
   "metadata": {},
   "outputs": [
    {
     "data": {
      "text/plain": [
       "<AxesSubplot:xlabel='HR', ylabel='W'>"
      ]
     },
     "execution_count": 23,
     "metadata": {},
     "output_type": "execute_result"
    },
    {
     "data": {
      "image/png": "[encoded data removed]",
      "text/plain": [
       "<Figure size 1800x360 with 1 Axes>"
      ]
     },
     "metadata": {
      "needs_background": "light"
     },
     "output_type": "display_data"
    }
   ],
   "source": [
    "plt.figure(figsize=(25,5))\n",
    "sns.barplot(x ='HR',y ='W',data=df)"
   ]
  },
  {
   "cell_type": "code",
   "execution_count": 24,
   "metadata": {},
   "outputs": [
    {
     "data": {
      "text/plain": [
       "478    2\n",
       "570    1\n",
       "471    1\n",
       "490    1\n",
       "439    1\n",
       "455    1\n",
       "388    1\n",
       "457    1\n",
       "461    1\n",
       "375    1\n",
       "426    1\n",
       "435    1\n",
       "404    1\n",
       "533    1\n",
       "383    1\n",
       "539    1\n",
       "475    1\n",
       "412    1\n",
       "418    1\n",
       "486    1\n",
       "488    1\n",
       "554    1\n",
       "496    1\n",
       "563    1\n",
       "436    1\n",
       "567    1\n",
       "503    1\n",
       "506    1\n",
       "387    1\n",
       "Name: BB, dtype: int64"
      ]
     },
     "execution_count": 24,
     "metadata": {},
     "output_type": "execute_result"
    }
   ],
   "source": [
    "df['BB'].value_counts()"
   ]
  },
  {
   "cell_type": "code",
   "execution_count": 25,
   "metadata": {},
   "outputs": [
    {
     "data": {
      "text/plain": [
       "<AxesSubplot:xlabel='BB', ylabel='W'>"
      ]
     },
     "execution_count": 25,
     "metadata": {},
     "output_type": "execute_result"
    },
    {
     "data": {
      "image/png": "[encoded data removed]",
      "text/plain": [
       "<Figure size 1800x360 with 1 Axes>"
      ]
     },
     "metadata": {
      "needs_background": "light"
     },
     "output_type": "display_data"
    }
   ],
   "source": [
    "plt.figure(figsize=(25,5))\n",
    "sns.barplot(x ='BB',y ='W',data=df)"
   ]
  },
  {
   "cell_type": "code",
   "execution_count": 26,
   "metadata": {},
   "outputs": [
    {
     "data": {
      "text/plain": [
       "<bound method IndexOpsMixin.value_counts of 0     104\n",
       "1      70\n",
       "2      86\n",
       "3      68\n",
       "4      83\n",
       "5      88\n",
       "6      63\n",
       "7      44\n",
       "8      87\n",
       "9      71\n",
       "10    101\n",
       "11    121\n",
       "12     52\n",
       "13     69\n",
       "14     78\n",
       "15     69\n",
       "16     98\n",
       "17     95\n",
       "18     84\n",
       "19    134\n",
       "20     51\n",
       "21     57\n",
       "22    112\n",
       "23     69\n",
       "24     88\n",
       "25     59\n",
       "26     93\n",
       "27    132\n",
       "28     82\n",
       "29     97\n",
       "Name: SB, dtype: int64>"
      ]
     },
     "execution_count": 26,
     "metadata": {},
     "output_type": "execute_result"
    }
   ],
   "source": [
    "df['SB'].value_counts"
   ]
  },
  {
   "cell_type": "code",
   "execution_count": 27,
   "metadata": {},
   "outputs": [
    {
     "data": {
      "text/plain": [
       "<AxesSubplot:xlabel='SB', ylabel='W'>"
      ]
     },
     "execution_count": 27,
     "metadata": {},
     "output_type": "execute_result"
    },
    {
     "data": {
      "image/png": "[encoded data removed]",
      "text/plain": [
       "<Figure size 1800x360 with 1 Axes>"
      ]
     },
     "metadata": {
      "needs_background": "light"
     },
     "output_type": "display_data"
    }
   ],
   "source": [
    "plt.figure(figsize=(25,5))\n",
    "sns.barplot(x ='SB',y ='W',data=df)"
   ]
  },
  {
   "cell_type": "code",
   "execution_count": 28,
   "metadata": {},
   "outputs": [
    {
     "data": {
      "text/plain": [
       "1     7\n",
       "7     4\n",
       "2     4\n",
       "6     3\n",
       "5     3\n",
       "3     3\n",
       "0     3\n",
       "4     2\n",
       "11    1\n",
       "Name: CG, dtype: int64"
      ]
     },
     "execution_count": 28,
     "metadata": {},
     "output_type": "execute_result"
    }
   ],
   "source": [
    "df['CG'].value_counts()"
   ]
  },
  {
   "cell_type": "code",
   "execution_count": 29,
   "metadata": {},
   "outputs": [
    {
     "data": {
      "text/plain": [
       "<AxesSubplot:xlabel='CG', ylabel='W'>"
      ]
     },
     "execution_count": 29,
     "metadata": {},
     "output_type": "execute_result"
    },
    {
     "data": {
      "image/png": "[encoded data removed]",
      "text/plain": [
       "<Figure size 1800x360 with 1 Axes>"
      ]
     },
     "metadata": {
      "needs_background": "light"
     },
     "output_type": "display_data"
    }
   ],
   "source": [
    "plt.figure(figsize=(25,5))\n",
    "sns.barplot(x ='CG',y ='W',data=df)"
   ]
  },
  {
   "cell_type": "code",
   "execution_count": 30,
   "metadata": {},
   "outputs": [
    {
     "data": {
      "text/plain": [
       "12    7\n",
       "10    5\n",
       "13    3\n",
       "21    2\n",
       "15    2\n",
       "9     2\n",
       "8     2\n",
       "7     2\n",
       "4     2\n",
       "18    1\n",
       "14    1\n",
       "6     1\n",
       "Name: SHO, dtype: int64"
      ]
     },
     "execution_count": 30,
     "metadata": {},
     "output_type": "execute_result"
    }
   ],
   "source": [
    "df['SHO'].value_counts()"
   ]
  },
  {
   "cell_type": "code",
   "execution_count": 31,
   "metadata": {},
   "outputs": [
    {
     "data": {
      "text/plain": [
       "<AxesSubplot:xlabel='SHO', ylabel='W'>"
      ]
     },
     "execution_count": 31,
     "metadata": {},
     "output_type": "execute_result"
    },
    {
     "data": {
      "image/png": "[encoded data removed]",
      "text/plain": [
       "<Figure size 1800x360 with 1 Axes>"
      ]
     },
     "metadata": {
      "needs_background": "light"
     },
     "output_type": "display_data"
    }
   ],
   "source": [
    "plt.figure(figsize=(25,5))\n",
    "sns.barplot(x ='SHO',y ='W',data=df)"
   ]
  },
  {
   "cell_type": "code",
   "execution_count": 32,
   "metadata": {},
   "outputs": [
    {
     "data": {
      "text/plain": [
       "35    4\n",
       "45    3\n",
       "41    3\n",
       "44    2\n",
       "48    2\n",
       "40    2\n",
       "43    1\n",
       "36    1\n",
       "37    1\n",
       "38    1\n",
       "39    1\n",
       "28    1\n",
       "62    1\n",
       "46    1\n",
       "47    1\n",
       "50    1\n",
       "54    1\n",
       "56    1\n",
       "60    1\n",
       "34    1\n",
       "Name: SV, dtype: int64"
      ]
     },
     "execution_count": 32,
     "metadata": {},
     "output_type": "execute_result"
    }
   ],
   "source": [
    "df['SV'].value_counts()"
   ]
  },
  {
   "cell_type": "code",
   "execution_count": 33,
   "metadata": {},
   "outputs": [
    {
     "data": {
      "text/plain": [
       "<AxesSubplot:xlabel='SV', ylabel='W'>"
      ]
     },
     "execution_count": 33,
     "metadata": {},
     "output_type": "execute_result"
    },
    {
     "data": {
      "image/png": "[encoded data removed]",
      "text/plain": [
       "<Figure size 1800x360 with 1 Axes>"
      ]
     },
     "metadata": {
      "needs_background": "light"
     },
     "output_type": "display_data"
    }
   ],
   "source": [
    "plt.figure(figsize=(25,5))\n",
    "sns.barplot(x ='SV',y ='W',data=df)"
   ]
  },
  {
   "cell_type": "code",
   "execution_count": 34,
   "metadata": {},
   "outputs": [
    {
     "data": {
      "text/plain": [
       "90     3\n",
       "88     3\n",
       "86     3\n",
       "77     2\n",
       "95     2\n",
       "93     2\n",
       "122    1\n",
       "119    1\n",
       "126    1\n",
       "85     1\n",
       "116    1\n",
       "94     1\n",
       "79     1\n",
       "78     1\n",
       "75     1\n",
       "92     1\n",
       "101    1\n",
       "111    1\n",
       "117    1\n",
       "97     1\n",
       "96     1\n",
       "Name: E, dtype: int64"
      ]
     },
     "execution_count": 34,
     "metadata": {},
     "output_type": "execute_result"
    }
   ],
   "source": [
    "df['E'].value_counts()"
   ]
  },
  {
   "cell_type": "code",
   "execution_count": 35,
   "metadata": {},
   "outputs": [
    {
     "data": {
      "text/plain": [
       "<AxesSubplot:xlabel='E', ylabel='W'>"
      ]
     },
     "execution_count": 35,
     "metadata": {},
     "output_type": "execute_result"
    },
    {
     "data": {
      "image/png": "[encoded data removed]",
      "text/plain": [
       "<Figure size 1800x360 with 1 Axes>"
      ]
     },
     "metadata": {
      "needs_background": "light"
     },
     "output_type": "display_data"
    }
   ],
   "source": [
    "plt.figure(figsize=(25,5))\n",
    "sns.barplot(x ='E',y ='W',data=df)"
   ]
  },
  {
   "cell_type": "code",
   "execution_count": 36,
   "metadata": {},
   "outputs": [
    {
     "data": {
      "image/png": "[encoded data removed]",
      "text/plain": [
       "<Figure size 1080x1080 with 17 Axes>"
      ]
     },
     "metadata": {},
     "output_type": "display_data"
    }
   ],
   "source": [
    "# Checking Skewness\n",
    "plt.figure(figsize = (15,15),facecolor = 'white')\n",
    "plotnumber = 1\n",
    "\n",
    "for column in df:\n",
    "    if plotnumber <=30:\n",
    "        ax = plt.subplot(6,5,plotnumber)\n",
    "        sns.distplot(df[column])\n",
    "        plt.xlabel(column,fontsize = 20)\n",
    "        \n",
    "    plotnumber+=1\n",
    "plt.tight_layout()"
   ]
  },
  {
   "cell_type": "code",
   "execution_count": 37,
   "metadata": {},
   "outputs": [
    {
     "data": {
      "text/plain": [
       "W          0.047089\n",
       "R          1.200786\n",
       "AB         0.183437\n",
       "H          0.670254\n",
       "Doubles   -0.230650\n",
       "Triples    0.129502\n",
       "HR         0.516441\n",
       "BB         0.158498\n",
       "SO        -0.156065\n",
       "SB         0.479893\n",
       "RA         0.045734\n",
       "ER         0.058710\n",
       "ERA        0.053331\n",
       "CG         0.736845\n",
       "SHO        0.565790\n",
       "SV         0.657524\n",
       "E          0.890132\n",
       "dtype: float64"
      ]
     },
     "execution_count": 37,
     "metadata": {},
     "output_type": "execute_result"
    }
   ],
   "source": [
    "df.skew()"
   ]
  },
  {
   "cell_type": "code",
   "execution_count": 38,
   "metadata": {},
   "outputs": [],
   "source": [
    "feature = ['Doubles','Triples','HR','BB','SO','CG','SHO','SV']"
   ]
  },
  {
   "cell_type": "code",
   "execution_count": 39,
   "metadata": {},
   "outputs": [],
   "source": [
    "# Removing Skewness Using Power Transformer\n",
    "from sklearn.preprocessing import PowerTransformer"
   ]
  },
  {
   "cell_type": "code",
   "execution_count": 40,
   "metadata": {},
   "outputs": [
    {
     "data": {
      "text/plain": [
       "\"\\nParameters:\\nmethod = 'box-cox' or 'yeo jhonson'\\n\\n\""
      ]
     },
     "execution_count": 40,
     "metadata": {},
     "output_type": "execute_result"
    }
   ],
   "source": [
    "scaler = PowerTransformer(method = 'yeo-johnson')\n",
    "'''\n",
    "Parameters:\n",
    "method = 'box-cox' or 'yeo jhonson'\n",
    "\n",
    "'''"
   ]
  },
  {
   "cell_type": "code",
   "execution_count": 41,
   "metadata": {},
   "outputs": [],
   "source": [
    "df[feature] = scaler.fit_transform(df[feature].values)"
   ]
  },
  {
   "cell_type": "code",
   "execution_count": 42,
   "metadata": {},
   "outputs": [
    {
     "data": {
      "text/html": [
       "<div>\n",
       "<style scoped>\n",
       "    .dataframe tbody tr th:only-of-type {\n",
       "        vertical-align: middle;\n",
       "    }\n",
       "\n",
       "    .dataframe tbody tr th {\n",
       "        vertical-align: top;\n",
       "    }\n",
       "\n",
       "    .dataframe thead th {\n",
       "        text-align: right;\n",
       "    }\n",
       "</style>\n",
       "<table border=\"1\" class=\"dataframe\">\n",
       "  <thead>\n",
       "    <tr style=\"text-align: right;\">\n",
       "      <th></th>\n",
       "      <th>Doubles</th>\n",
       "      <th>Triples</th>\n",
       "      <th>HR</th>\n",
       "      <th>BB</th>\n",
       "      <th>SO</th>\n",
       "      <th>CG</th>\n",
       "      <th>SHO</th>\n",
       "      <th>SV</th>\n",
       "    </tr>\n",
       "  </thead>\n",
       "  <tbody>\n",
       "    <tr>\n",
       "      <th>0</th>\n",
       "      <td>1.477685</td>\n",
       "      <td>1.033103</td>\n",
       "      <td>-0.764626</td>\n",
       "      <td>-1.610915</td>\n",
       "      <td>-2.569896</td>\n",
       "      <td>-0.359844</td>\n",
       "      <td>-0.789579</td>\n",
       "      <td>1.546378</td>\n",
       "    </tr>\n",
       "    <tr>\n",
       "      <th>1</th>\n",
       "      <td>0.084269</td>\n",
       "      <td>1.203320</td>\n",
       "      <td>-0.158581</td>\n",
       "      <td>-0.502749</td>\n",
       "      <td>0.134913</td>\n",
       "      <td>-0.359844</td>\n",
       "      <td>0.251775</td>\n",
       "      <td>0.360444</td>\n",
       "    </tr>\n",
       "    <tr>\n",
       "      <th>2</th>\n",
       "      <td>1.670782</td>\n",
       "      <td>-0.160270</td>\n",
       "      <td>-0.689676</td>\n",
       "      <td>1.128294</td>\n",
       "      <td>-0.901254</td>\n",
       "      <td>1.993513</td>\n",
       "      <td>-0.245393</td>\n",
       "      <td>-0.607594</td>\n",
       "    </tr>\n",
       "    <tr>\n",
       "      <th>3</th>\n",
       "      <td>-0.848600</td>\n",
       "      <td>-0.360521</td>\n",
       "      <td>-0.879049</td>\n",
       "      <td>-1.181207</td>\n",
       "      <td>-0.189628</td>\n",
       "      <td>1.220103</td>\n",
       "      <td>-0.510759</td>\n",
       "      <td>-0.764453</td>\n",
       "    </tr>\n",
       "    <tr>\n",
       "      <th>4</th>\n",
       "      <td>0.792183</td>\n",
       "      <td>1.616444</td>\n",
       "      <td>-0.329850</td>\n",
       "      <td>-0.206771</td>\n",
       "      <td>0.085459</td>\n",
       "      <td>1.220103</td>\n",
       "      <td>0.251775</td>\n",
       "      <td>-1.095010</td>\n",
       "    </tr>\n",
       "  </tbody>\n",
       "</table>\n",
       "</div>"
      ],
      "text/plain": [
       "    Doubles   Triples        HR        BB        SO        CG       SHO  \\\n",
       "0  1.477685  1.033103 -0.764626 -1.610915 -2.569896 -0.359844 -0.789579   \n",
       "1  0.084269  1.203320 -0.158581 -0.502749  0.134913 -0.359844  0.251775   \n",
       "2  1.670782 -0.160270 -0.689676  1.128294 -0.901254  1.993513 -0.245393   \n",
       "3 -0.848600 -0.360521 -0.879049 -1.181207 -0.189628  1.220103 -0.510759   \n",
       "4  0.792183  1.616444 -0.329850 -0.206771  0.085459  1.220103  0.251775   \n",
       "\n",
       "         SV  \n",
       "0  1.546378  \n",
       "1  0.360444  \n",
       "2 -0.607594  \n",
       "3 -0.764453  \n",
       "4 -1.095010  "
      ]
     },
     "execution_count": 42,
     "metadata": {},
     "output_type": "execute_result"
    }
   ],
   "source": [
    "df[feature].head()"
   ]
  },
  {
   "cell_type": "code",
   "execution_count": 43,
   "metadata": {},
   "outputs": [
    {
     "data": {
      "text/plain": [
       "W          0.047089\n",
       "R          1.200786\n",
       "AB         0.183437\n",
       "H          0.670254\n",
       "Doubles   -0.035315\n",
       "Triples   -0.072933\n",
       "HR        -0.000065\n",
       "BB        -0.007760\n",
       "SO         0.041170\n",
       "SB         0.479893\n",
       "RA         0.045734\n",
       "ER         0.058710\n",
       "ERA        0.053331\n",
       "CG        -0.059785\n",
       "SHO        0.006560\n",
       "SV         0.000836\n",
       "E          0.890132\n",
       "dtype: float64"
      ]
     },
     "execution_count": 43,
     "metadata": {},
     "output_type": "execute_result"
    }
   ],
   "source": [
    "df.skew()"
   ]
  },
  {
   "cell_type": "code",
   "execution_count": 44,
   "metadata": {
    "scrolled": false
   },
   "outputs": [
    {
     "data": {
      "image/png": "[encoded data removed]",
      "text/plain": [
       "<Figure size 1080x1080 with 17 Axes>"
      ]
     },
     "metadata": {
      "needs_background": "light"
     },
     "output_type": "display_data"
    }
   ],
   "source": [
    "plt.figure(figsize=(15,15))\n",
    "\n",
    "graph=1\n",
    "\n",
    "for column in df.columns:\n",
    "    if graph<=30:\n",
    "        ax = plt.subplot(6,5,graph)\n",
    "        sns.boxplot(y=df[column],orient='v') #orientation = v means vertical and if h that means horizontal\n",
    "        plt.xlabel(column,fontsize=10)\n",
    "    graph+=1\n",
    "plt.show()"
   ]
  },
  {
   "cell_type": "code",
   "execution_count": 45,
   "metadata": {},
   "outputs": [],
   "source": [
    "Outlier = df[['R','ERA','SHO','E']]"
   ]
  },
  {
   "cell_type": "code",
   "execution_count": 47,
   "metadata": {},
   "outputs": [],
   "source": [
    "from scipy.stats import zscore"
   ]
  },
  {
   "cell_type": "code",
   "execution_count": 48,
   "metadata": {},
   "outputs": [],
   "source": [
    "# applying zscore on only the dataset which has continuous columns\n",
    "z=np.abs(zscore(Outlier))\n",
    "# be carefull with the code and variables used here\n",
    "df_new=df[(z<3).all(axis=1)]"
   ]
  },
  {
   "cell_type": "code",
   "execution_count": 49,
   "metadata": {},
   "outputs": [
    {
     "name": "stdout",
     "output_type": "stream",
     "text": [
      "shape before and after\n",
      "shape before         : (30, 17)\n",
      "shape after          : (29, 17)\n",
      "Percentage Loss      : 0.03333333333333333\n"
     ]
    }
   ],
   "source": [
    "print(\"shape before and after\")\n",
    "print(\"shape before\".ljust(20),\":\", df.shape)\n",
    "print(\"shape after\".ljust(20),\":\", df_new.shape)\n",
    "print(\"Percentage Loss\".ljust(20),\":\", (df.shape[0]-df_new.shape[0])/df.shape[0])"
   ]
  },
  {
   "cell_type": "code",
   "execution_count": 50,
   "metadata": {
    "scrolled": true
   },
   "outputs": [
    {
     "data": {
      "text/html": [
       "<div>\n",
       "<style scoped>\n",
       "    .dataframe tbody tr th:only-of-type {\n",
       "        vertical-align: middle;\n",
       "    }\n",
       "\n",
       "    .dataframe tbody tr th {\n",
       "        vertical-align: top;\n",
       "    }\n",
       "\n",
       "    .dataframe thead th {\n",
       "        text-align: right;\n",
       "    }\n",
       "</style>\n",
       "<table border=\"1\" class=\"dataframe\">\n",
       "  <thead>\n",
       "    <tr style=\"text-align: right;\">\n",
       "      <th></th>\n",
       "      <th>W</th>\n",
       "      <th>R</th>\n",
       "      <th>AB</th>\n",
       "      <th>H</th>\n",
       "      <th>Doubles</th>\n",
       "      <th>Triples</th>\n",
       "      <th>HR</th>\n",
       "      <th>BB</th>\n",
       "      <th>SO</th>\n",
       "      <th>SB</th>\n",
       "      <th>RA</th>\n",
       "      <th>ER</th>\n",
       "      <th>ERA</th>\n",
       "      <th>CG</th>\n",
       "      <th>SHO</th>\n",
       "      <th>SV</th>\n",
       "      <th>E</th>\n",
       "    </tr>\n",
       "  </thead>\n",
       "  <tbody>\n",
       "    <tr>\n",
       "      <th>0</th>\n",
       "      <td>95</td>\n",
       "      <td>724</td>\n",
       "      <td>5575</td>\n",
       "      <td>1497</td>\n",
       "      <td>1.477685</td>\n",
       "      <td>1.033103</td>\n",
       "      <td>-0.764626</td>\n",
       "      <td>-1.610915</td>\n",
       "      <td>-2.569896</td>\n",
       "      <td>104</td>\n",
       "      <td>641</td>\n",
       "      <td>601</td>\n",
       "      <td>3.73</td>\n",
       "      <td>-0.359844</td>\n",
       "      <td>-0.789579</td>\n",
       "      <td>1.546378</td>\n",
       "      <td>88</td>\n",
       "    </tr>\n",
       "    <tr>\n",
       "      <th>1</th>\n",
       "      <td>83</td>\n",
       "      <td>696</td>\n",
       "      <td>5467</td>\n",
       "      <td>1349</td>\n",
       "      <td>0.084269</td>\n",
       "      <td>1.203320</td>\n",
       "      <td>-0.158581</td>\n",
       "      <td>-0.502749</td>\n",
       "      <td>0.134913</td>\n",
       "      <td>70</td>\n",
       "      <td>700</td>\n",
       "      <td>653</td>\n",
       "      <td>4.07</td>\n",
       "      <td>-0.359844</td>\n",
       "      <td>0.251775</td>\n",
       "      <td>0.360444</td>\n",
       "      <td>86</td>\n",
       "    </tr>\n",
       "    <tr>\n",
       "      <th>2</th>\n",
       "      <td>81</td>\n",
       "      <td>669</td>\n",
       "      <td>5439</td>\n",
       "      <td>1395</td>\n",
       "      <td>1.670782</td>\n",
       "      <td>-0.160270</td>\n",
       "      <td>-0.689676</td>\n",
       "      <td>1.128294</td>\n",
       "      <td>-0.901254</td>\n",
       "      <td>86</td>\n",
       "      <td>640</td>\n",
       "      <td>584</td>\n",
       "      <td>3.67</td>\n",
       "      <td>1.993513</td>\n",
       "      <td>-0.245393</td>\n",
       "      <td>-0.607594</td>\n",
       "      <td>79</td>\n",
       "    </tr>\n",
       "    <tr>\n",
       "      <th>3</th>\n",
       "      <td>76</td>\n",
       "      <td>622</td>\n",
       "      <td>5533</td>\n",
       "      <td>1381</td>\n",
       "      <td>-0.848600</td>\n",
       "      <td>-0.360521</td>\n",
       "      <td>-0.879049</td>\n",
       "      <td>-1.181207</td>\n",
       "      <td>-0.189628</td>\n",
       "      <td>68</td>\n",
       "      <td>701</td>\n",
       "      <td>643</td>\n",
       "      <td>3.98</td>\n",
       "      <td>1.220103</td>\n",
       "      <td>-0.510759</td>\n",
       "      <td>-0.764453</td>\n",
       "      <td>101</td>\n",
       "    </tr>\n",
       "    <tr>\n",
       "      <th>4</th>\n",
       "      <td>74</td>\n",
       "      <td>689</td>\n",
       "      <td>5605</td>\n",
       "      <td>1515</td>\n",
       "      <td>0.792183</td>\n",
       "      <td>1.616444</td>\n",
       "      <td>-0.329850</td>\n",
       "      <td>-0.206771</td>\n",
       "      <td>0.085459</td>\n",
       "      <td>83</td>\n",
       "      <td>803</td>\n",
       "      <td>746</td>\n",
       "      <td>4.64</td>\n",
       "      <td>1.220103</td>\n",
       "      <td>0.251775</td>\n",
       "      <td>-1.095010</td>\n",
       "      <td>86</td>\n",
       "    </tr>\n",
       "  </tbody>\n",
       "</table>\n",
       "</div>"
      ],
      "text/plain": [
       "    W    R    AB     H   Doubles   Triples        HR        BB        SO   SB  \\\n",
       "0  95  724  5575  1497  1.477685  1.033103 -0.764626 -1.610915 -2.569896  104   \n",
       "1  83  696  5467  1349  0.084269  1.203320 -0.158581 -0.502749  0.134913   70   \n",
       "2  81  669  5439  1395  1.670782 -0.160270 -0.689676  1.128294 -0.901254   86   \n",
       "3  76  622  5533  1381 -0.848600 -0.360521 -0.879049 -1.181207 -0.189628   68   \n",
       "4  74  689  5605  1515  0.792183  1.616444 -0.329850 -0.206771  0.085459   83   \n",
       "\n",
       "    RA   ER   ERA        CG       SHO        SV    E  \n",
       "0  641  601  3.73 -0.359844 -0.789579  1.546378   88  \n",
       "1  700  653  4.07 -0.359844  0.251775  0.360444   86  \n",
       "2  640  584  3.67  1.993513 -0.245393 -0.607594   79  \n",
       "3  701  643  3.98  1.220103 -0.510759 -0.764453  101  \n",
       "4  803  746  4.64  1.220103  0.251775 -1.095010   86  "
      ]
     },
     "execution_count": 50,
     "metadata": {},
     "output_type": "execute_result"
    }
   ],
   "source": [
    "df_new.head()"
   ]
  },
  {
   "cell_type": "code",
   "execution_count": 51,
   "metadata": {},
   "outputs": [
    {
     "data": {
      "text/html": [
       "<div>\n",
       "<style scoped>\n",
       "    .dataframe tbody tr th:only-of-type {\n",
       "        vertical-align: middle;\n",
       "    }\n",
       "\n",
       "    .dataframe tbody tr th {\n",
       "        vertical-align: top;\n",
       "    }\n",
       "\n",
       "    .dataframe thead th {\n",
       "        text-align: right;\n",
       "    }\n",
       "</style>\n",
       "<table border=\"1\" class=\"dataframe\">\n",
       "  <thead>\n",
       "    <tr style=\"text-align: right;\">\n",
       "      <th></th>\n",
       "      <th>W</th>\n",
       "      <th>R</th>\n",
       "      <th>AB</th>\n",
       "      <th>H</th>\n",
       "      <th>Doubles</th>\n",
       "      <th>Triples</th>\n",
       "      <th>HR</th>\n",
       "      <th>BB</th>\n",
       "      <th>SO</th>\n",
       "      <th>SB</th>\n",
       "      <th>RA</th>\n",
       "      <th>ER</th>\n",
       "      <th>ERA</th>\n",
       "      <th>CG</th>\n",
       "      <th>SHO</th>\n",
       "      <th>SV</th>\n",
       "      <th>E</th>\n",
       "    </tr>\n",
       "  </thead>\n",
       "  <tbody>\n",
       "    <tr>\n",
       "      <th>W</th>\n",
       "      <td>1.000000</td>\n",
       "      <td>0.430751</td>\n",
       "      <td>-0.087947</td>\n",
       "      <td>0.037612</td>\n",
       "      <td>0.434324</td>\n",
       "      <td>-0.244971</td>\n",
       "      <td>0.319035</td>\n",
       "      <td>0.478181</td>\n",
       "      <td>0.124430</td>\n",
       "      <td>-0.157234</td>\n",
       "      <td>-0.812952</td>\n",
       "      <td>-0.809435</td>\n",
       "      <td>-0.819600</td>\n",
       "      <td>0.058044</td>\n",
       "      <td>0.458964</td>\n",
       "      <td>0.666202</td>\n",
       "      <td>-0.089485</td>\n",
       "    </tr>\n",
       "    <tr>\n",
       "      <th>R</th>\n",
       "      <td>0.430751</td>\n",
       "      <td>1.000000</td>\n",
       "      <td>0.319464</td>\n",
       "      <td>0.482856</td>\n",
       "      <td>0.567096</td>\n",
       "      <td>-0.088745</td>\n",
       "      <td>0.670026</td>\n",
       "      <td>0.392496</td>\n",
       "      <td>-0.051826</td>\n",
       "      <td>0.081367</td>\n",
       "      <td>-0.041623</td>\n",
       "      <td>-0.041245</td>\n",
       "      <td>-0.049281</td>\n",
       "      <td>0.260600</td>\n",
       "      <td>-0.116663</td>\n",
       "      <td>-0.091095</td>\n",
       "      <td>-0.023262</td>\n",
       "    </tr>\n",
       "    <tr>\n",
       "      <th>AB</th>\n",
       "      <td>-0.087947</td>\n",
       "      <td>0.319464</td>\n",
       "      <td>1.000000</td>\n",
       "      <td>0.739122</td>\n",
       "      <td>0.445201</td>\n",
       "      <td>0.427437</td>\n",
       "      <td>-0.032412</td>\n",
       "      <td>-0.124745</td>\n",
       "      <td>-0.105952</td>\n",
       "      <td>0.372618</td>\n",
       "      <td>0.316010</td>\n",
       "      <td>0.309686</td>\n",
       "      <td>0.255551</td>\n",
       "      <td>-0.063271</td>\n",
       "      <td>-0.192934</td>\n",
       "      <td>-0.142317</td>\n",
       "      <td>0.316743</td>\n",
       "    </tr>\n",
       "    <tr>\n",
       "      <th>H</th>\n",
       "      <td>0.037612</td>\n",
       "      <td>0.482856</td>\n",
       "      <td>0.739122</td>\n",
       "      <td>1.000000</td>\n",
       "      <td>0.577673</td>\n",
       "      <td>0.462311</td>\n",
       "      <td>-0.085286</td>\n",
       "      <td>-0.119458</td>\n",
       "      <td>-0.397599</td>\n",
       "      <td>0.413444</td>\n",
       "      <td>0.224324</td>\n",
       "      <td>0.252489</td>\n",
       "      <td>0.231172</td>\n",
       "      <td>0.127263</td>\n",
       "      <td>-0.134241</td>\n",
       "      <td>-0.156458</td>\n",
       "      <td>-0.033173</td>\n",
       "    </tr>\n",
       "    <tr>\n",
       "      <th>Doubles</th>\n",
       "      <td>0.434324</td>\n",
       "      <td>0.567096</td>\n",
       "      <td>0.445201</td>\n",
       "      <td>0.577673</td>\n",
       "      <td>1.000000</td>\n",
       "      <td>0.204475</td>\n",
       "      <td>0.076143</td>\n",
       "      <td>0.301392</td>\n",
       "      <td>-0.173551</td>\n",
       "      <td>0.194490</td>\n",
       "      <td>-0.226413</td>\n",
       "      <td>-0.243344</td>\n",
       "      <td>-0.261417</td>\n",
       "      <td>0.279284</td>\n",
       "      <td>0.066977</td>\n",
       "      <td>0.129807</td>\n",
       "      <td>0.082746</td>\n",
       "    </tr>\n",
       "    <tr>\n",
       "      <th>Triples</th>\n",
       "      <td>-0.244971</td>\n",
       "      <td>-0.088745</td>\n",
       "      <td>0.427437</td>\n",
       "      <td>0.462311</td>\n",
       "      <td>0.204475</td>\n",
       "      <td>1.000000</td>\n",
       "      <td>-0.393924</td>\n",
       "      <td>-0.458272</td>\n",
       "      <td>-0.133889</td>\n",
       "      <td>0.469990</td>\n",
       "      <td>0.300118</td>\n",
       "      <td>0.326418</td>\n",
       "      <td>0.316566</td>\n",
       "      <td>-0.066691</td>\n",
       "      <td>-0.047706</td>\n",
       "      <td>-0.182646</td>\n",
       "      <td>0.140234</td>\n",
       "    </tr>\n",
       "    <tr>\n",
       "      <th>HR</th>\n",
       "      <td>0.319035</td>\n",
       "      <td>0.670026</td>\n",
       "      <td>-0.032412</td>\n",
       "      <td>-0.085286</td>\n",
       "      <td>0.076143</td>\n",
       "      <td>-0.393924</td>\n",
       "      <td>1.000000</td>\n",
       "      <td>0.417581</td>\n",
       "      <td>0.385912</td>\n",
       "      <td>-0.134965</td>\n",
       "      <td>-0.107588</td>\n",
       "      <td>-0.089520</td>\n",
       "      <td>-0.098179</td>\n",
       "      <td>0.194161</td>\n",
       "      <td>-0.027620</td>\n",
       "      <td>0.019674</td>\n",
       "      <td>-0.178540</td>\n",
       "    </tr>\n",
       "    <tr>\n",
       "      <th>BB</th>\n",
       "      <td>0.478181</td>\n",
       "      <td>0.392496</td>\n",
       "      <td>-0.124745</td>\n",
       "      <td>-0.119458</td>\n",
       "      <td>0.301392</td>\n",
       "      <td>-0.458272</td>\n",
       "      <td>0.417581</td>\n",
       "      <td>1.000000</td>\n",
       "      <td>0.238514</td>\n",
       "      <td>-0.100884</td>\n",
       "      <td>-0.414158</td>\n",
       "      <td>-0.451160</td>\n",
       "      <td>-0.459558</td>\n",
       "      <td>0.480102</td>\n",
       "      <td>0.405895</td>\n",
       "      <td>0.118506</td>\n",
       "      <td>-0.070370</td>\n",
       "    </tr>\n",
       "    <tr>\n",
       "      <th>SO</th>\n",
       "      <td>0.124430</td>\n",
       "      <td>-0.051826</td>\n",
       "      <td>-0.105952</td>\n",
       "      <td>-0.397599</td>\n",
       "      <td>-0.173551</td>\n",
       "      <td>-0.133889</td>\n",
       "      <td>0.385912</td>\n",
       "      <td>0.238514</td>\n",
       "      <td>1.000000</td>\n",
       "      <td>0.038214</td>\n",
       "      <td>-0.139222</td>\n",
       "      <td>-0.171394</td>\n",
       "      <td>-0.190040</td>\n",
       "      <td>-0.095856</td>\n",
       "      <td>0.216663</td>\n",
       "      <td>0.173120</td>\n",
       "      <td>0.157967</td>\n",
       "    </tr>\n",
       "    <tr>\n",
       "      <th>SB</th>\n",
       "      <td>-0.157234</td>\n",
       "      <td>0.081367</td>\n",
       "      <td>0.372618</td>\n",
       "      <td>0.413444</td>\n",
       "      <td>0.194490</td>\n",
       "      <td>0.469990</td>\n",
       "      <td>-0.134965</td>\n",
       "      <td>-0.100884</td>\n",
       "      <td>0.038214</td>\n",
       "      <td>1.000000</td>\n",
       "      <td>0.132290</td>\n",
       "      <td>0.143068</td>\n",
       "      <td>0.126063</td>\n",
       "      <td>-0.030613</td>\n",
       "      <td>-0.101345</td>\n",
       "      <td>-0.199858</td>\n",
       "      <td>0.079149</td>\n",
       "    </tr>\n",
       "    <tr>\n",
       "      <th>RA</th>\n",
       "      <td>-0.812952</td>\n",
       "      <td>-0.041623</td>\n",
       "      <td>0.316010</td>\n",
       "      <td>0.224324</td>\n",
       "      <td>-0.226413</td>\n",
       "      <td>0.300118</td>\n",
       "      <td>-0.107588</td>\n",
       "      <td>-0.414158</td>\n",
       "      <td>-0.139222</td>\n",
       "      <td>0.132290</td>\n",
       "      <td>1.000000</td>\n",
       "      <td>0.991018</td>\n",
       "      <td>0.986674</td>\n",
       "      <td>0.046276</td>\n",
       "      <td>-0.639016</td>\n",
       "      <td>-0.594146</td>\n",
       "      <td>0.198996</td>\n",
       "    </tr>\n",
       "    <tr>\n",
       "      <th>ER</th>\n",
       "      <td>-0.809435</td>\n",
       "      <td>-0.041245</td>\n",
       "      <td>0.309686</td>\n",
       "      <td>0.252489</td>\n",
       "      <td>-0.243344</td>\n",
       "      <td>0.326418</td>\n",
       "      <td>-0.089520</td>\n",
       "      <td>-0.451160</td>\n",
       "      <td>-0.171394</td>\n",
       "      <td>0.143068</td>\n",
       "      <td>0.991018</td>\n",
       "      <td>1.000000</td>\n",
       "      <td>0.997248</td>\n",
       "      <td>0.045071</td>\n",
       "      <td>-0.634450</td>\n",
       "      <td>-0.566613</td>\n",
       "      <td>0.136921</td>\n",
       "    </tr>\n",
       "    <tr>\n",
       "      <th>ERA</th>\n",
       "      <td>-0.819600</td>\n",
       "      <td>-0.049281</td>\n",
       "      <td>0.255551</td>\n",
       "      <td>0.231172</td>\n",
       "      <td>-0.261417</td>\n",
       "      <td>0.316566</td>\n",
       "      <td>-0.098179</td>\n",
       "      <td>-0.459558</td>\n",
       "      <td>-0.190040</td>\n",
       "      <td>0.126063</td>\n",
       "      <td>0.986674</td>\n",
       "      <td>0.997248</td>\n",
       "      <td>1.000000</td>\n",
       "      <td>0.053541</td>\n",
       "      <td>-0.635454</td>\n",
       "      <td>-0.583305</td>\n",
       "      <td>0.113137</td>\n",
       "    </tr>\n",
       "    <tr>\n",
       "      <th>CG</th>\n",
       "      <td>0.058044</td>\n",
       "      <td>0.260600</td>\n",
       "      <td>-0.063271</td>\n",
       "      <td>0.127263</td>\n",
       "      <td>0.279284</td>\n",
       "      <td>-0.066691</td>\n",
       "      <td>0.194161</td>\n",
       "      <td>0.480102</td>\n",
       "      <td>-0.095856</td>\n",
       "      <td>-0.030613</td>\n",
       "      <td>0.046276</td>\n",
       "      <td>0.045071</td>\n",
       "      <td>0.053541</td>\n",
       "      <td>1.000000</td>\n",
       "      <td>0.194671</td>\n",
       "      <td>-0.339623</td>\n",
       "      <td>-0.094217</td>\n",
       "    </tr>\n",
       "    <tr>\n",
       "      <th>SHO</th>\n",
       "      <td>0.458964</td>\n",
       "      <td>-0.116663</td>\n",
       "      <td>-0.192934</td>\n",
       "      <td>-0.134241</td>\n",
       "      <td>0.066977</td>\n",
       "      <td>-0.047706</td>\n",
       "      <td>-0.027620</td>\n",
       "      <td>0.405895</td>\n",
       "      <td>0.216663</td>\n",
       "      <td>-0.101345</td>\n",
       "      <td>-0.639016</td>\n",
       "      <td>-0.634450</td>\n",
       "      <td>-0.635454</td>\n",
       "      <td>0.194671</td>\n",
       "      <td>1.000000</td>\n",
       "      <td>0.199496</td>\n",
       "      <td>-0.120375</td>\n",
       "    </tr>\n",
       "    <tr>\n",
       "      <th>SV</th>\n",
       "      <td>0.666202</td>\n",
       "      <td>-0.091095</td>\n",
       "      <td>-0.142317</td>\n",
       "      <td>-0.156458</td>\n",
       "      <td>0.129807</td>\n",
       "      <td>-0.182646</td>\n",
       "      <td>0.019674</td>\n",
       "      <td>0.118506</td>\n",
       "      <td>0.173120</td>\n",
       "      <td>-0.199858</td>\n",
       "      <td>-0.594146</td>\n",
       "      <td>-0.566613</td>\n",
       "      <td>-0.583305</td>\n",
       "      <td>-0.339623</td>\n",
       "      <td>0.199496</td>\n",
       "      <td>1.000000</td>\n",
       "      <td>-0.077554</td>\n",
       "    </tr>\n",
       "    <tr>\n",
       "      <th>E</th>\n",
       "      <td>-0.089485</td>\n",
       "      <td>-0.023262</td>\n",
       "      <td>0.316743</td>\n",
       "      <td>-0.033173</td>\n",
       "      <td>0.082746</td>\n",
       "      <td>0.140234</td>\n",
       "      <td>-0.178540</td>\n",
       "      <td>-0.070370</td>\n",
       "      <td>0.157967</td>\n",
       "      <td>0.079149</td>\n",
       "      <td>0.198996</td>\n",
       "      <td>0.136921</td>\n",
       "      <td>0.113137</td>\n",
       "      <td>-0.094217</td>\n",
       "      <td>-0.120375</td>\n",
       "      <td>-0.077554</td>\n",
       "      <td>1.000000</td>\n",
       "    </tr>\n",
       "  </tbody>\n",
       "</table>\n",
       "</div>"
      ],
      "text/plain": [
       "                W         R        AB         H   Doubles   Triples        HR  \\\n",
       "W        1.000000  0.430751 -0.087947  0.037612  0.434324 -0.244971  0.319035   \n",
       "R        0.430751  1.000000  0.319464  0.482856  0.567096 -0.088745  0.670026   \n",
       "AB      -0.087947  0.319464  1.000000  0.739122  0.445201  0.427437 -0.032412   \n",
       "H        0.037612  0.482856  0.739122  1.000000  0.577673  0.462311 -0.085286   \n",
       "Doubles  0.434324  0.567096  0.445201  0.577673  1.000000  0.204475  0.076143   \n",
       "Triples -0.244971 -0.088745  0.427437  0.462311  0.204475  1.000000 -0.393924   \n",
       "HR       0.319035  0.670026 -0.032412 -0.085286  0.076143 -0.393924  1.000000   \n",
       "BB       0.478181  0.392496 -0.124745 -0.119458  0.301392 -0.458272  0.417581   \n",
       "SO       0.124430 -0.051826 -0.105952 -0.397599 -0.173551 -0.133889  0.385912   \n",
       "SB      -0.157234  0.081367  0.372618  0.413444  0.194490  0.469990 -0.134965   \n",
       "RA      -0.812952 -0.041623  0.316010  0.224324 -0.226413  0.300118 -0.107588   \n",
       "ER      -0.809435 -0.041245  0.309686  0.252489 -0.243344  0.326418 -0.089520   \n",
       "ERA     -0.819600 -0.049281  0.255551  0.231172 -0.261417  0.316566 -0.098179   \n",
       "CG       0.058044  0.260600 -0.063271  0.127263  0.279284 -0.066691  0.194161   \n",
       "SHO      0.458964 -0.116663 -0.192934 -0.134241  0.066977 -0.047706 -0.027620   \n",
       "SV       0.666202 -0.091095 -0.142317 -0.156458  0.129807 -0.182646  0.019674   \n",
       "E       -0.089485 -0.023262  0.316743 -0.033173  0.082746  0.140234 -0.178540   \n",
       "\n",
       "               BB        SO        SB        RA        ER       ERA        CG  \\\n",
       "W        0.478181  0.124430 -0.157234 -0.812952 -0.809435 -0.819600  0.058044   \n",
       "R        0.392496 -0.051826  0.081367 -0.041623 -0.041245 -0.049281  0.260600   \n",
       "AB      -0.124745 -0.105952  0.372618  0.316010  0.309686  0.255551 -0.063271   \n",
       "H       -0.119458 -0.397599  0.413444  0.224324  0.252489  0.231172  0.127263   \n",
       "Doubles  0.301392 -0.173551  0.194490 -0.226413 -0.243344 -0.261417  0.279284   \n",
       "Triples -0.458272 -0.133889  0.469990  0.300118  0.326418  0.316566 -0.066691   \n",
       "HR       0.417581  0.385912 -0.134965 -0.107588 -0.089520 -0.098179  0.194161   \n",
       "BB       1.000000  0.238514 -0.100884 -0.414158 -0.451160 -0.459558  0.480102   \n",
       "SO       0.238514  1.000000  0.038214 -0.139222 -0.171394 -0.190040 -0.095856   \n",
       "SB      -0.100884  0.038214  1.000000  0.132290  0.143068  0.126063 -0.030613   \n",
       "RA      -0.414158 -0.139222  0.132290  1.000000  0.991018  0.986674  0.046276   \n",
       "ER      -0.451160 -0.171394  0.143068  0.991018  1.000000  0.997248  0.045071   \n",
       "ERA     -0.459558 -0.190040  0.126063  0.986674  0.997248  1.000000  0.053541   \n",
       "CG       0.480102 -0.095856 -0.030613  0.046276  0.045071  0.053541  1.000000   \n",
       "SHO      0.405895  0.216663 -0.101345 -0.639016 -0.634450 -0.635454  0.194671   \n",
       "SV       0.118506  0.173120 -0.199858 -0.594146 -0.566613 -0.583305 -0.339623   \n",
       "E       -0.070370  0.157967  0.079149  0.198996  0.136921  0.113137 -0.094217   \n",
       "\n",
       "              SHO        SV         E  \n",
       "W        0.458964  0.666202 -0.089485  \n",
       "R       -0.116663 -0.091095 -0.023262  \n",
       "AB      -0.192934 -0.142317  0.316743  \n",
       "H       -0.134241 -0.156458 -0.033173  \n",
       "Doubles  0.066977  0.129807  0.082746  \n",
       "Triples -0.047706 -0.182646  0.140234  \n",
       "HR      -0.027620  0.019674 -0.178540  \n",
       "BB       0.405895  0.118506 -0.070370  \n",
       "SO       0.216663  0.173120  0.157967  \n",
       "SB      -0.101345 -0.199858  0.079149  \n",
       "RA      -0.639016 -0.594146  0.198996  \n",
       "ER      -0.634450 -0.566613  0.136921  \n",
       "ERA     -0.635454 -0.583305  0.113137  \n",
       "CG       0.194671 -0.339623 -0.094217  \n",
       "SHO      1.000000  0.199496 -0.120375  \n",
       "SV       0.199496  1.000000 -0.077554  \n",
       "E       -0.120375 -0.077554  1.000000  "
      ]
     },
     "execution_count": 51,
     "metadata": {},
     "output_type": "execute_result"
    }
   ],
   "source": [
    "df.corr()"
   ]
  },
  {
   "cell_type": "code",
   "execution_count": 52,
   "metadata": {
    "scrolled": true
   },
   "outputs": [
    {
     "data": {
      "image/png": "[encoded data removed]",
      "text/plain": [
       "<Figure size 1152x720 with 2 Axes>"
      ]
     },
     "metadata": {
      "needs_background": "light"
     },
     "output_type": "display_data"
    }
   ],
   "source": [
    "# Checking correlation with the help of heatmap\n",
    "df_corr = df.corr().abs()\n",
    "\n",
    "plt.figure(figsize = (16,10))\n",
    "sns.heatmap(df_corr, vmin = -1,vmax = 1,annot=True,\n",
    "           square = True,center = 0, fmt = '.1g',linewidths = .1,)\n",
    "plt.show()\n"
   ]
  },
  {
   "cell_type": "markdown",
   "metadata": {},
   "source": [
    "Less correlation among features so no need to do any thing for this"
   ]
  },
  {
   "cell_type": "markdown",
   "metadata": {},
   "source": [
    "# Preprocessing Data"
   ]
  },
  {
   "cell_type": "code",
   "execution_count": 56,
   "metadata": {},
   "outputs": [],
   "source": [
    "# Splitting Target and feature variable into x and y\n",
    "x = df_new.drop(columns = ['W'])\n",
    "y = df_new['W']"
   ]
  },
  {
   "cell_type": "code",
   "execution_count": 57,
   "metadata": {},
   "outputs": [],
   "source": [
    "from sklearn.preprocessing import StandardScaler"
   ]
  },
  {
   "cell_type": "code",
   "execution_count": 58,
   "metadata": {},
   "outputs": [
    {
     "data": {
      "text/plain": [
       "array([[ 0.95939835,  0.83008422,  1.73830631,  1.63754523,  1.00385739,\n",
       "        -0.73533488, -1.60901046, -2.60065781,  0.9059529 , -0.66451353,\n",
       "        -0.51114812, -0.51138828, -0.32077156, -0.78544371,  1.52018924,\n",
       "        -0.47109143],\n",
       "       [ 0.33114717, -0.70283074, -0.93869788,  0.16219052,  1.17773552,\n",
       "        -0.09669396, -0.46014944,  0.10179095, -0.58531515,  0.15463823,\n",
       "         0.23216082,  0.23895226, -0.32077156,  0.23947269,  0.32037612,\n",
       "        -0.61489829],\n",
       "       [-0.27466646, -1.10025314, -0.10665604,  1.84199686, -0.21518187,\n",
       "        -0.6563541 ,  1.23078973, -0.93347178,  0.11645805, -0.67839746,\n",
       "        -0.75415297, -0.64380131,  2.05480538, -0.24984806, -0.65899029,\n",
       "        -1.1182223 ],\n",
       "       [-1.32923093,  0.23395062, -0.35988616, -0.82553417, -0.41973953,\n",
       "        -0.85591192, -1.16352281, -0.22246705, -0.6730368 ,  0.16852216,\n",
       "         0.08921679,  0.04033271,  1.27409334, -0.51102495, -0.81768575,\n",
       "         0.46365315],\n",
       "       [ 0.17408438,  1.25589393,  2.0638879 ,  0.9117327 ,  1.5997445 ,\n",
       "        -0.27717443, -0.15330205,  0.05237979, -0.01512442,  1.58468284,\n",
       "         1.56154027,  1.4968761 ,  1.27409334,  0.23947269, -1.15211116,\n",
       "        -0.61489829],\n",
       "       [ 1.85690002,  0.71653496, -0.07048031, -0.13726747, -1.30272033,\n",
       "         1.60904782,  1.57583946, -0.26147256, -0.89234092,  0.12687038,\n",
       "         0.21786641,  0.1506769 ,  0.1077101 , -2.07451567,  0.68219959,\n",
       "        -0.11157429],\n",
       "       [ 0.71258538, -0.44734492, -0.55885269, -1.57501339, -1.185647  ,\n",
       "         1.73914051, -0.87660248,  0.77346566, -1.7256966 ,  0.05745074,\n",
       "         0.1321    ,  0.19481458, -1.70375357, -0.24984806,  0.06154391,\n",
       "        -1.26202916],\n",
       "       [-0.83560501, -0.44734492, -0.32371043,  0.22298473,  0.0819551 ,\n",
       "         0.28123561, -0.51866476,  0.56103766,  0.16031888, -0.6506296 ,\n",
       "        -0.46826492, -0.48931944, -0.87529538,  0.23947269,  1.88349364,\n",
       "         0.03223257],\n",
       "       [ 1.49789935,  1.75267193,  1.70213058,  1.23702053,  0.17863557,\n",
       "         0.07821883,  0.2731739 , -1.01840049, -0.54145432,  0.89048643,\n",
       "         0.81823133,  0.7686044 ,  0.1077101 , -0.24984806, -0.35701208,\n",
       "         0.17603943],\n",
       "       [ 1.56521198, -0.07830983,  0.32745275,  0.28408078,  0.0819551 ,\n",
       "         0.44504033,  0.71870626, -0.20293999,  0.77437043,  0.61280787,\n",
       "         0.61810969,  0.61412253,  0.76567926, -0.51102495,  0.32037612,\n",
       "         1.75791488],\n",
       "       [ 1.07158606, -0.81638   , -0.68546775,  0.22298473, -0.52414879,\n",
       "         2.0641131 ,  0.41770939,  1.40021892,  1.65158693, -0.98384388,\n",
       "        -0.9256858 , -0.86448971,  0.76567926,  0.47015771, -0.50553153,\n",
       "        -0.68680172],\n",
       "       [-0.4541668 , -1.4125136 , -1.26427947, -1.72822774, -1.07072676,\n",
       "         0.57276522, -0.53824062, -0.99955672, -1.37481   , -0.19245997,\n",
       "        -0.09661045, -0.04794265, -0.32077156,  0.23947269,  0.44433374,\n",
       "        -0.11157429],\n",
       "       [-0.56635451,  0.39008085, -0.3960619 , -0.71378549, -0.95782472,\n",
       "         1.22814385,  0.2731739 ,  0.82429759, -0.62917597,  0.51562037,\n",
       "         0.57522648,  0.43757181,  1.03361451,  0.23947269,  0.32037612,\n",
       "        -0.03967086],\n",
       "       [ 0.28627209,  1.18492565,  0.07422262,  0.16219052,  1.34862736,\n",
       "        -0.46359198,  0.21847964, -1.28974472, -0.23442855,  0.55727215,\n",
       "         0.38939925,  0.39343414,  0.76567926,  0.90831538, -2.54669416,\n",
       "         2.26123888],\n",
       "       [-0.76829238, -0.46153857, -0.26944683,  0.84759573,  0.7370084 ,\n",
       "        -0.81543343,  0.77098529,  0.13148563, -0.62917597, -2.2750492 ,\n",
       "        -2.26935966, -2.25482658, -0.87529538,  0.90831538,  2.05365597,\n",
       "         0.104136  ],\n",
       "       [ 0.35358471,  1.62492902,  1.10523099,  1.1059832 , -0.41973953,\n",
       "        -0.69570674, -0.04043271,  0.68221386,  0.64278795, -1.2892903 ,\n",
       "        -1.49746191, -1.65896792, -1.70375357,  0.47015771,  1.3257818 ,\n",
       "         1.97362516],\n",
       "       [ 0.17408438, -0.36218297, -1.08340081, -0.13726747, -0.11490148,\n",
       "         0.41265524,  1.78428814,  2.73941888,  0.51120548, -1.12268316,\n",
       "        -1.29734027, -1.32793533,  1.03361451,  2.08101997,  0.68219959,\n",
       "         1.18268744],\n",
       "       [-0.58879205, -0.5183132 , -0.41414976, -0.01838523,  0.27421424,\n",
       "        -0.50162306, -0.99862346,  0.45045627,  0.0287364 ,  0.66834358,\n",
       "         0.64669849,  0.70239789, -0.87529538, -1.07537236, -0.35701208,\n",
       "         1.54220459],\n",
       "       [-0.92535518,  0.77330959, -0.3417983 , -0.99095138, -0.41973953,\n",
       "         0.28123561,  0.59575585,  0.01292293,  2.22177765,  0.90437036,\n",
       "         0.90399774,  0.81274208, -0.32077156, -0.78544371, -1.15211116,\n",
       "        -0.32728458],\n",
       "       [ 0.03945913,  0.14878868, -0.90252215,  1.3030015 , -1.5439503 ,\n",
       "         0.60425274,  0.45354898,  0.36033546, -1.41867082, -1.05326352,\n",
       "        -1.14010184, -1.17345346, -0.87529538,  0.69284371,  0.90769001,\n",
       "        -0.47109143],\n",
       "       [ 0.48820996, -1.25638337, -0.68546775, -0.5439481 , -2.06042367,\n",
       "         0.60425274,  1.33045703,  0.90583088, -1.15550587, -0.7478171 ,\n",
       "        -0.85421379, -0.75414551,  0.46165879,  0.47015771, -0.21315818,\n",
       "        -0.32728458],\n",
       "       [-1.53116881, -0.75960537,  0.34554062, -2.07571163,  0.82679808,\n",
       "        -1.54638558, -1.78380771, -0.99955672,  1.2568395 , -0.15080819,\n",
       "         0.01774478,  0.12860806, -1.70375357,  0.23947269, -1.15211116,\n",
       "        -1.26202916],\n",
       "       [-2.42867049, -1.36993263, -0.72164349, -1.31388783, -1.42209796,\n",
       "        -2.54837828,  0.14512738, -1.40098409, -0.62917597,  0.98767393,\n",
       "         0.87540894,  0.9892928 ,  0.1077101 , -0.24984806,  0.19284158,\n",
       "        -0.32728458],\n",
       "       [-1.23948077,  0.177176  , -0.48650123, -0.13726747,  0.55476053,\n",
       "        -1.1050612 , -1.52269201,  0.20091287,  0.2041797 ,  1.66798641,\n",
       "         1.60442347,  1.6072203 , -0.87529538, -1.07537236, -1.15211116,\n",
       "         1.61410802],\n",
       "       [-0.31954155, -1.86671063, -0.99296148, -0.65746871, -0.52414879,\n",
       "         0.90989011,  1.7205564 ,  0.04250956, -1.06778422, -1.30317423,\n",
       "        -1.19727945, -1.15138462,  1.03361451,  2.08101997,  0.56488773,\n",
       "        -1.40583602],\n",
       "       [ 0.33114717,  0.68814765,  1.53933978,  0.84759573,  0.7370084 ,\n",
       "        -0.85591192, -0.11554884, -0.91455278,  0.42348383, -0.85888852,\n",
       "        -0.56832573, -0.53345712,  1.27409334,  1.51762229, -0.21315818,\n",
       "        -1.19012573],\n",
       "       [ 0.86964818,  1.88041485,  1.68404271,  0.9117327 ,  1.51670817,\n",
       "        -0.16819814,  0.48927258,  0.58119448,  2.134056  ,  0.3351293 ,\n",
       "         0.31792723,  0.17274574, -0.87529538,  0.23947269,  0.19284158,\n",
       "        -0.61489829],\n",
       "       [-0.70097976, -0.84476732, -1.39089453, -0.82553417,  0.46223739,\n",
       "        -0.38828734, -0.71604394,  0.73287027, -0.05898525,  0.58504001,\n",
       "         0.26074962,  0.28308994, -0.87529538, -1.38381304, -0.21315818,\n",
       "        -0.18347772],\n",
       "       [ 1.25108639,  0.78750325,  1.41272472, -0.01838523,  1.5997445 ,\n",
       "         0.88005525, -1.50122266,  0.29046306,  0.59892713,  2.1539239 ,\n",
       "         2.31914361,  2.37962968,  0.46165879, -2.07451567, -0.98194164,\n",
       "         0.03223257]])"
      ]
     },
     "execution_count": 58,
     "metadata": {},
     "output_type": "execute_result"
    }
   ],
   "source": [
    "scaler = StandardScaler()\n",
    "x_scaler = scaler.fit_transform(x)\n",
    "x_scaler"
   ]
  },
  {
   "cell_type": "markdown",
   "metadata": {},
   "source": [
    "# Finding Best Random State"
   ]
  },
  {
   "cell_type": "code",
   "execution_count": 59,
   "metadata": {},
   "outputs": [],
   "source": [
    "from sklearn.tree import DecisionTreeRegressor\n",
    "from sklearn.metrics import r2_score"
   ]
  },
  {
   "cell_type": "code",
   "execution_count": 60,
   "metadata": {},
   "outputs": [],
   "source": [
    "from sklearn.model_selection import train_test_split"
   ]
  },
  {
   "cell_type": "code",
   "execution_count": 61,
   "metadata": {},
   "outputs": [
    {
     "name": "stdout",
     "output_type": "stream",
     "text": [
      "Best r2 score is: 0.8503684111090118 On Random state:  719\n"
     ]
    }
   ],
   "source": [
    "maxscore = 0\n",
    "maxrs = 0\n",
    "\n",
    "for i in range(1,1000):\n",
    "    x_train,x_test,y_train,y_test = train_test_split(x_scaler,y,test_size = 0.30,random_state = i)\n",
    "    dt = DecisionTreeRegressor()\n",
    "    dt.fit(x_train,y_train)\n",
    "    pred = dt.predict(x_test)\n",
    "    rsc = r2_score(y_test,pred)\n",
    "    if rsc>maxscore:\n",
    "        maxscore=rsc\n",
    "        maxrs=i\n",
    "print(\"Best r2 score is:\",maxscore,\"On Random state: \",maxrs)"
   ]
  },
  {
   "cell_type": "code",
   "execution_count": 64,
   "metadata": {},
   "outputs": [],
   "source": [
    "x_train,x_test,y_train,y_test=train_test_split(x_scaler,y,random_state =i,test_size = 0.30)"
   ]
  },
  {
   "cell_type": "code",
   "execution_count": 65,
   "metadata": {},
   "outputs": [
    {
     "name": "stdout",
     "output_type": "stream",
     "text": [
      "0.49862684322674344\n"
     ]
    }
   ],
   "source": [
    "from sklearn.linear_model import LinearRegression\n",
    "lr = LinearRegression()\n",
    "lr.fit(x_train,y_train)\n",
    "pred = lr.predict(x_test)\n",
    "print(r2_score(y_test,pred))"
   ]
  },
  {
   "cell_type": "code",
   "execution_count": 66,
   "metadata": {},
   "outputs": [],
   "source": [
    "from sklearn.model_selection import cross_val_score"
   ]
  },
  {
   "cell_type": "code",
   "execution_count": 67,
   "metadata": {},
   "outputs": [
    {
     "name": "stdout",
     "output_type": "stream",
     "text": [
      "0.0700593181389195\n"
     ]
    }
   ],
   "source": [
    "print(cross_val_score(lr,x_scaler,y,cv=5).mean())"
   ]
  },
  {
   "cell_type": "code",
   "execution_count": 68,
   "metadata": {},
   "outputs": [
    {
     "name": "stdout",
     "output_type": "stream",
     "text": [
      "1.0\n"
     ]
    }
   ],
   "source": [
    "dtr =DecisionTreeRegressor()\n",
    "dtr.fit(x_test,y_test)\n",
    "pred = dtr.predict(x_test)\n",
    "print(r2_score(y_test,pred))"
   ]
  },
  {
   "cell_type": "code",
   "execution_count": 69,
   "metadata": {},
   "outputs": [
    {
     "name": "stdout",
     "output_type": "stream",
     "text": [
      "-1.9469627880319718\n"
     ]
    }
   ],
   "source": [
    "print(cross_val_score(dt,x_scaler,y,cv=5).mean())"
   ]
  },
  {
   "cell_type": "code",
   "execution_count": 71,
   "metadata": {},
   "outputs": [
    {
     "name": "stdout",
     "output_type": "stream",
     "text": [
      "0.4853780681631982\n"
     ]
    }
   ],
   "source": [
    "from sklearn.ensemble import RandomForestRegressor\n",
    "rf = RandomForestRegressor()\n",
    "rf.fit(x_train,y_train)\n",
    "pred = rf.predict(x_test)\n",
    "print(r2_score(y_test,pred))"
   ]
  },
  {
   "cell_type": "code",
   "execution_count": 72,
   "metadata": {},
   "outputs": [
    {
     "name": "stdout",
     "output_type": "stream",
     "text": [
      "-0.48193439548823297\n"
     ]
    }
   ],
   "source": [
    "print(cross_val_score(rf,x_scaler,y,cv=5).mean())"
   ]
  },
  {
   "cell_type": "markdown",
   "metadata": {},
   "source": [
    "# Hyperparameter Tuning"
   ]
  },
  {
   "cell_type": "markdown",
   "metadata": {},
   "source": [
    "As less difference between cv and r2 score is for linear regression so will do hyperparameter tuning for the same "
   ]
  },
  {
   "cell_type": "code",
   "execution_count": 74,
   "metadata": {
    "scrolled": true
   },
   "outputs": [],
   "source": [
    "lr = LinearRegression(copy_X=True, fit_intercept=True, n_jobs=None, normalize=False)"
   ]
  },
  {
   "cell_type": "code",
   "execution_count": 75,
   "metadata": {},
   "outputs": [],
   "source": [
    "param = {'copy_X':[1,3,4,5,6],'fit_intercept':[True],'n_jobs':[-1],'normalize':[False]}"
   ]
  },
  {
   "cell_type": "code",
   "execution_count": 77,
   "metadata": {},
   "outputs": [],
   "source": [
    "from sklearn.model_selection import GridSearchCV"
   ]
  },
  {
   "cell_type": "code",
   "execution_count": 78,
   "metadata": {},
   "outputs": [],
   "source": [
    "GC = GridSearchCV(lr,param,cv=5)"
   ]
  },
  {
   "cell_type": "code",
   "execution_count": 79,
   "metadata": {},
   "outputs": [
    {
     "data": {
      "text/plain": [
       "GridSearchCV(cv=5, estimator=LinearRegression(),\n",
       "             param_grid={'copy_X': [1, 3, 4, 5, 6], 'fit_intercept': [True],\n",
       "                         'n_jobs': [-1], 'normalize': [False]})"
      ]
     },
     "execution_count": 79,
     "metadata": {},
     "output_type": "execute_result"
    }
   ],
   "source": [
    "GC.fit(x_train,y_train)"
   ]
  },
  {
   "cell_type": "code",
   "execution_count": 80,
   "metadata": {},
   "outputs": [
    {
     "data": {
      "text/plain": [
       "{'copy_X': 1, 'fit_intercept': True, 'n_jobs': -1, 'normalize': False}"
      ]
     },
     "execution_count": 80,
     "metadata": {},
     "output_type": "execute_result"
    }
   ],
   "source": [
    "GC.best_params_"
   ]
  },
  {
   "cell_type": "code",
   "execution_count": 81,
   "metadata": {},
   "outputs": [
    {
     "name": "stdout",
     "output_type": "stream",
     "text": [
      "49.86268432267432\n"
     ]
    }
   ],
   "source": [
    "final_lr = LinearRegression(copy_X=1, fit_intercept='True', n_jobs=-1, normalize='False')\n",
    "final_lr.fit(x_train,y_train)\n",
    "pred = final_lr.predict(x_test)\n",
    "score = r2_score(y_test,pred)\n",
    "print(score*100)"
   ]
  },
  {
   "cell_type": "markdown",
   "metadata": {},
   "source": [
    "# Save the model"
   ]
  },
  {
   "cell_type": "code",
   "execution_count": 83,
   "metadata": {},
   "outputs": [
    {
     "data": {
      "text/plain": [
       "['FinalmodelBaseball.pk1']"
      ]
     },
     "execution_count": 83,
     "metadata": {},
     "output_type": "execute_result"
    }
   ],
   "source": [
    "import joblib\n",
    "joblib.dump(final_lr,'FinalmodelBaseball.pk1')"
   ]
  },
  {
   "cell_type": "code",
   "execution_count": null,
   "metadata": {},
   "outputs": [],
   "source": []
  }
 ],
 "metadata": {
  "kernelspec": {
   "display_name": "Python 3",
   "language": "python",
   "name": "python3"
  },
  "language_info": {
   "codemirror_mode": {
    "name": "ipython",
    "version": 3
   },
   "file_extension": ".py",
   "mimetype": "text/x-python",
   "name": "python",
   "nbconvert_exporter": "python",
   "pygments_lexer": "ipython3",
   "version": "3.8.5"
  }
 },
 "nbformat": 4,
 "nbformat_minor": 4
}
